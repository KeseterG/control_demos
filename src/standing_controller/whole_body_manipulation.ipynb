{
 "cells": [
  {
   "cell_type": "markdown",
   "metadata": {},
   "source": [
    "# Whole-body manipulation\n",
    "The objective of this exercise is to reach multiple targets while keeping balance in the Talos humanoid robot.\n",
    "<img src=\"https://robots.ieee.org/robots/talos/Photos/SD/talos-photo2-full.jpg\" alt=\"drawing\" width=\"250\"/>\n",
    "\n",
    "\n",
    "This exercise focuses on a multi-contact optimal control problem of the form:\n",
    "\n",
    "\\begin{equation}\\nonumber\n",
    "\t\\begin{aligned}\n",
    "\t\t\\min_{\\mathbf{x}_s,\\mathbf{u}_s}\n",
    "\t\t&\\hspace{-2.em}\n",
    "\t\t& & \\hspace{-0.75em}l_N(\\mathbf{x}_{N})+\\sum_{k=0}^{N-1} \\int_{t_k}^{t_k+\\Delta t_k}\\hspace{-2.em} l_k(\\mathbf{x}_k,\\mathbf{u}_k)dt \\hspace{-8.em}&\\\\\n",
    "\t\t& \\hspace{-1em}\\textrm{s.t.}\n",
    "\t\t& & \\mathbf{q}_{k+1} = \\mathbf{q}_k \\oplus \\int_{t_k}^{t_k+\\Delta t_k}\\hspace{-2.em}\\mathbf{v}_{k+1}\\,dt, &\\textrm{(integrator)}\\\\\n",
    "\t\t& & & \\mathbf{v}_{k+1} = \\mathbf{v}_k + \\int_{t_k}^{t_k+\\Delta t_k}\\hspace{-2.em}\\mathbf{\\dot{v}}_k\\,dt, &\\\\\n",
    "\t\t& & & \\hspace{-1em}\\left[\\begin{matrix}\\mathbf{\\dot{v}}_k \\\\ -\\boldsymbol{\\lambda}_k\\end{matrix}\\right] =\n",
    "\t\t\\left[\\begin{matrix}\\mathbf{M} & \\mathbf{J}^{\\top}_c \\\\ {\\mathbf{J}_{c}} & \\mathbf{0} \\end{matrix}\\right]^{-1}\n",
    "\t\t\\left[\\begin{matrix}\\boldsymbol{\\tau}_b \\\\ -\\mathbf{a}_0 \\\\\\end{matrix}\\right], &\\textrm{(contact dynamics)}\\\\\n",
    "\t\t& & & \\mathbf{R}\\boldsymbol{\\lambda}_{\\mathcal{C}(k)} \\leq \\mathbf{\\mathbf{r}}, &\\textrm{(friction-cone)}\\\\\n",
    "\t\t\t& & & \\mathbf{\\bar{x}} \\leq \\mathbf{x}_k \\leq \\mathbf{\\underline{x}}, &\\textrm{(state bounds)}\n",
    "\t\t\\end{aligned}\n",
    "\\end{equation}}\n",
    "\n",
    "where $l_i(\\mathbf{x}_i, \\mathbf{u}_i) = w_{hand}\\|\\log{(\\mathbf{p}_{\\mathcal{G}(k)}(\\mathbf{q}_k)^{-1} \\mathbf{^oM}_{\\mathbf{f}_{\\mathcal{G}(k)}})}\\| + w_{xreg}\\|\\mathbf{x} - \\mathbf{x}_0\\|_{Q} + w_{ureg}\\|\\mathbf{u}\\|_{R}$. Note that (1) the first term is the hand placement cost and (2) the terminal cost does not include the control regularization term.\n",
    "\n",
    "Below there is a basic example that defines the above problem for reaching one target. Later, you will have to build the problem on top of it.\n",
    "\n",
    "Without no more preamble, let's first declare the robot model and the foot and hand names!"
   ]
  },
  {
   "cell_type": "code",
   "execution_count": 24,
   "metadata": {
    "ExecuteTime": {
     "end_time": "2024-03-22T20:18:44.434477Z",
     "start_time": "2024-03-22T20:18:44.002797Z"
    }
   },
   "outputs": [],
   "source": [
    "import crocoddyl\n",
    "import example_robot_data\n",
    "import numpy as np\n",
    "import pinocchio as pin\n",
    "\n",
    "# Load robot\n",
    "robot = example_robot_data.load(\"talos\")\n",
    "rmodel = robot.model\n",
    "q0 = rmodel.referenceConfigurations[\"half_sitting\"]\n",
    "x0 = np.concatenate([q0, np.zeros(rmodel.nv)])\n",
    "\n",
    "# Declaring the foot and hand names\n",
    "rf_name = \"right_sole_link\"\n",
    "lf_name = \"left_sole_link\"\n",
    "lh_name = \"gripper_left_joint\"\n",
    "\n",
    "# Getting the frame ids\n",
    "rf_id = rmodel.getFrameId(rf_name)\n",
    "lf_id = rmodel.getFrameId(lf_name)\n",
    "lh_id = rmodel.getFrameId(lh_name)\n",
    "\n",
    "# Define the robot's state and actuation\n",
    "state = crocoddyl.StateMultibody(rmodel)\n",
    "actuation = crocoddyl.ActuationModelFloatingBase(state)"
   ]
  },
  {
   "cell_type": "code",
   "outputs": [
    {
     "data": {
      "text/plain": "Nb joints = 34 (nq=39,nv=38)\n  Joint 0 universe: parent=0\n  Joint 1 root_joint: parent=0\n  Joint 2 leg_left_1_joint: parent=1\n  Joint 3 leg_left_2_joint: parent=2\n  Joint 4 leg_left_3_joint: parent=3\n  Joint 5 leg_left_4_joint: parent=4\n  Joint 6 leg_left_5_joint: parent=5\n  Joint 7 leg_left_6_joint: parent=6\n  Joint 8 leg_right_1_joint: parent=1\n  Joint 9 leg_right_2_joint: parent=8\n  Joint 10 leg_right_3_joint: parent=9\n  Joint 11 leg_right_4_joint: parent=10\n  Joint 12 leg_right_5_joint: parent=11\n  Joint 13 leg_right_6_joint: parent=12\n  Joint 14 torso_1_joint: parent=1\n  Joint 15 torso_2_joint: parent=14\n  Joint 16 arm_left_1_joint: parent=15\n  Joint 17 arm_left_2_joint: parent=16\n  Joint 18 arm_left_3_joint: parent=17\n  Joint 19 arm_left_4_joint: parent=18\n  Joint 20 arm_left_5_joint: parent=19\n  Joint 21 arm_left_6_joint: parent=20\n  Joint 22 arm_left_7_joint: parent=21\n  Joint 23 gripper_left_joint: parent=22\n  Joint 24 arm_right_1_joint: parent=15\n  Joint 25 arm_right_2_joint: parent=24\n  Joint 26 arm_right_3_joint: parent=25\n  Joint 27 arm_right_4_joint: parent=26\n  Joint 28 arm_right_5_joint: parent=27\n  Joint 29 arm_right_6_joint: parent=28\n  Joint 30 arm_right_7_joint: parent=29\n  Joint 31 gripper_right_joint: parent=30\n  Joint 32 head_1_joint: parent=15\n  Joint 33 head_2_joint: parent=32"
     },
     "execution_count": 29,
     "metadata": {},
     "output_type": "execute_result"
    }
   ],
   "source": [
    "state.pinocchio"
   ],
   "metadata": {
    "collapsed": false,
    "ExecuteTime": {
     "end_time": "2024-03-22T20:19:14.212999Z",
     "start_time": "2024-03-22T20:19:14.210781Z"
    }
   },
   "execution_count": 29
  },
  {
   "cell_type": "code",
   "outputs": [
    {
     "data": {
      "text/plain": "32"
     },
     "execution_count": 26,
     "metadata": {},
     "output_type": "execute_result"
    }
   ],
   "source": [
    "actuation.nu"
   ],
   "metadata": {
    "collapsed": false,
    "ExecuteTime": {
     "end_time": "2024-03-22T20:18:55.967215Z",
     "start_time": "2024-03-22T20:18:55.964187Z"
    }
   },
   "execution_count": 26
  },
  {
   "cell_type": "markdown",
   "metadata": {},
   "source": [
    "With the following function, we could build a differential action model giving a desired hand target.\n",
    "The function builds a double-support contact phase and defines a hand-placement task. The cost function also includes:\n",
    " - state and control regularization terms\n",
    " - state limits penalization\n",
    " - friction cone penalization\n"
   ]
  },
  {
   "cell_type": "code",
   "outputs": [
    {
     "data": {
      "text/plain": "array([0., 0.])"
     },
     "execution_count": 32,
     "metadata": {},
     "output_type": "execute_result"
    }
   ],
   "source": [
    "contacts  = crocoddyl.ContactModelMultiple(state, actuation.nu)\n",
    "lf_contact = crocoddyl.ContactModel6D(\n",
    "    state, lf_id, pin.SE3.Identity(), pin.LOCAL_WORLD_ALIGNED, actuation.nu, np.array([0,0])\n",
    ")"
   ],
   "metadata": {
    "collapsed": false,
    "ExecuteTime": {
     "end_time": "2024-03-22T20:24:29.028257Z",
     "start_time": "2024-03-22T20:24:29.025576Z"
    }
   },
   "execution_count": 32
  },
  {
   "cell_type": "code",
   "execution_count": 4,
   "metadata": {
    "ExecuteTime": {
     "end_time": "2024-03-22T20:09:26.017826Z",
     "start_time": "2024-03-22T20:09:26.012940Z"
    }
   },
   "outputs": [],
   "source": [
    "def createActionModel(target):\n",
    "    # Creating a double-support contact (feet support)\n",
    "    contacts = crocoddyl.ContactModelMultiple(state, actuation.nu)\n",
    "    lf_contact = crocoddyl.ContactModel6D(\n",
    "        state,\n",
    "        lf_id,\n",
    "        pin.SE3.Identity(),\n",
    "        pin.LOCAL_WORLD_ALIGNED,\n",
    "        actuation.nu,\n",
    "        np.array([0, 0]),\n",
    "    )\n",
    "    rf_contact = crocoddyl.ContactModel6D(\n",
    "        state,\n",
    "        rf_id,\n",
    "        pin.SE3.Identity(),\n",
    "        pin.LOCAL_WORLD_ALIGNED,\n",
    "        actuation.nu,\n",
    "        np.array([0, 0]),\n",
    "    )\n",
    "    contacts.addContact(\"lf_contact\", lf_contact)\n",
    "    contacts.addContact(\"rf_contact\", rf_contact)\n",
    "\n",
    "    # Define the cost sum (cost manager)\n",
    "    costs = crocoddyl.CostModelSum(state, actuation.nu)\n",
    "\n",
    "    # Adding the hand-placement cost\n",
    "    w_hand = np.array([1] * 3 + [0.0001] * 3)\n",
    "    lh_Mref = pin.SE3(np.eye(3), target)\n",
    "    activation_hand = crocoddyl.ActivationModelWeightedQuad(w_hand**2)\n",
    "    lh_cost = crocoddyl.CostModelResidual(\n",
    "        state,\n",
    "        activation_hand,\n",
    "        crocoddyl.ResidualModelFramePlacement(state, lh_id, lh_Mref, actuation.nu),\n",
    "    )\n",
    "    costs.addCost(\"lh_goal\", lh_cost, 1e2)\n",
    "\n",
    "    # Adding state and control regularization terms\n",
    "    w_x = np.array([0] * 3 + [10.0] * 3 + [0.01] * (state.nv - 6) + [10] * state.nv)\n",
    "    activation_xreg = crocoddyl.ActivationModelWeightedQuad(w_x**2)\n",
    "    x_reg_cost = crocoddyl.CostModelResidual(\n",
    "        state, activation_xreg, crocoddyl.ResidualModelState(state, x0, actuation.nu)\n",
    "    )\n",
    "    u_reg_cost = crocoddyl.CostModelResidual(\n",
    "        state, crocoddyl.ResidualModelControl(state, actuation.nu)\n",
    "    )\n",
    "    costs.addCost(\"xReg\", x_reg_cost, 1e-3)\n",
    "    costs.addCost(\"uReg\", u_reg_cost, 1e-4)\n",
    "\n",
    "    # Adding the state limits penalization\n",
    "    x_lb = np.concatenate([state.lb[1 : state.nv + 1], state.lb[-state.nv :]])\n",
    "    x_ub = np.concatenate([state.ub[1 : state.nv + 1], state.ub[-state.nv :]])\n",
    "    activation_xbounds = crocoddyl.ActivationModelQuadraticBarrier(\n",
    "        crocoddyl.ActivationBounds(x_lb, x_ub)\n",
    "    )\n",
    "    x_bounds = crocoddyl.CostModelResidual(\n",
    "        state,\n",
    "        activation_xbounds,\n",
    "        crocoddyl.ResidualModelState(state, 0 * x0, actuation.nu),\n",
    "    )\n",
    "    costs.addCost(\"xBounds\", x_bounds, 1.0)\n",
    "\n",
    "    # Adding the friction cone penalization\n",
    "    nsurf, mu = np.identity(3), 0.7\n",
    "    cone = crocoddyl.FrictionCone(nsurf, mu, 4, False)\n",
    "    activation_friction = crocoddyl.ActivationModelQuadraticBarrier(\n",
    "        crocoddyl.ActivationBounds(cone.lb, cone.ub)\n",
    "    )\n",
    "    lf_friction = crocoddyl.CostModelResidual(\n",
    "        state,\n",
    "        activation_friction,\n",
    "        crocoddyl.ResidualModelContactFrictionCone(state, lf_id, cone, actuation.nu),\n",
    "    )\n",
    "    rf_friction = crocoddyl.CostModelResidual(\n",
    "        state,\n",
    "        activation_friction,\n",
    "        crocoddyl.ResidualModelContactFrictionCone(state, rf_id, cone, actuation.nu),\n",
    "    )\n",
    "    costs.addCost(\"lf_friction\", lf_friction, 1e1)\n",
    "    costs.addCost(\"rf_friction\", rf_friction, 1e1)\n",
    "\n",
    "    # Creating the action model\n",
    "    dmodel = crocoddyl.DifferentialActionModelContactFwdDynamics(\n",
    "        state, actuation, contacts, costs\n",
    "    )\n",
    "    return dmodel"
   ]
  },
  {
   "cell_type": "markdown",
   "metadata": {},
   "source": [
    "And to easily build a sequence of tasks, we have the following function"
   ]
  },
  {
   "cell_type": "code",
   "execution_count": 5,
   "metadata": {
    "ExecuteTime": {
     "end_time": "2024-03-22T20:09:27.630113Z",
     "start_time": "2024-03-22T20:09:27.628091Z"
    }
   },
   "outputs": [],
   "source": [
    "def createSequence(dmodels, DT, N):\n",
    "    return [\n",
    "        [crocoddyl.IntegratedActionModelEuler(m, DT)] * N\n",
    "        + [crocoddyl.IntegratedActionModelEuler(m, 0.0)]\n",
    "        for m in dmodels\n",
    "    ]"
   ]
  },
  {
   "cell_type": "markdown",
   "metadata": {},
   "source": [
    "Finally, the following function allows us to display the motions and desired targets:"
   ]
  },
  {
   "cell_type": "code",
   "execution_count": 6,
   "metadata": {
    "ExecuteTime": {
     "end_time": "2024-03-22T20:09:29.622237Z",
     "start_time": "2024-03-22T20:09:29.511810Z"
    }
   },
   "outputs": [],
   "source": [
    "import meshcat.geometry as g\n",
    "import meshcat.transformations as tf\n",
    "\n",
    "\n",
    "def createDisplay(targets):\n",
    "    display = crocoddyl.MeshcatDisplay(robot, 4, 4, False)\n",
    "    for i, target in enumerate(targets):\n",
    "        display.robot.viewer[\"target_\" + str(i)].set_object(g.Sphere(0.05))\n",
    "        Href = np.array(\n",
    "            [\n",
    "                [1.0, 0.0, 0.0, target[0]],\n",
    "                [0.0, 1.0, 0.0, target[1]],\n",
    "                [0.0, 0.0, 1.0, target[2]],\n",
    "                [0.0, 0.0, 0.0, 1.0],\n",
    "            ]\n",
    "        )\n",
    "        display.robot.viewer[\"target_\" + str(i)].set_transform(\n",
    "            np.array(\n",
    "                [\n",
    "                    [1.0, 0.0, 0.0, target[0]],\n",
    "                    [0.0, 1.0, 0.0, target[1]],\n",
    "                    [0.0, 0.0, 1.0, target[2]],\n",
    "                    [0.0, 0.0, 0.0, 1.0],\n",
    "                ]\n",
    "            )\n",
    "        )\n",
    "    return display"
   ]
  },
  {
   "cell_type": "markdown",
   "metadata": {},
   "source": [
    "Now, we create an optimal control problem to reach a single target"
   ]
  },
  {
   "cell_type": "code",
   "execution_count": 33,
   "metadata": {
    "ExecuteTime": {
     "end_time": "2024-03-22T20:29:13.153707Z",
     "start_time": "2024-03-22T20:29:12.884730Z"
    }
   },
   "outputs": [
    {
     "name": "stdout",
     "output_type": "stream",
     "text": [
      "You can open the visualizer by visiting the following URL:\n",
      "http://127.0.0.1:7002/static/\n"
     ]
    },
    {
     "data": {
      "text/plain": "<IPython.core.display.HTML object>",
      "text/html": "\n            <div style=\"height: 400px; width: 100%; overflow-x: auto; overflow-y: hidden; resize: both\">\n            <iframe src=\"http://127.0.0.1:7002/static/\" style=\"width: 100%; height: 100%; border: none\"></iframe>\n            </div>\n            "
     },
     "execution_count": 33,
     "metadata": {},
     "output_type": "execute_result"
    }
   ],
   "source": [
    "DT, N = 5e-2, 20\n",
    "target = np.array([0.4, 0, 1.2])\n",
    "\n",
    "# Creating a running model for the target\n",
    "dmodel = createActionModel(target)\n",
    "seqs = createSequence([dmodel], DT, N)\n",
    "\n",
    "# Defining the problem and the solver\n",
    "problem = crocoddyl.ShootingProblem(x0, sum(seqs, [])[:-1], seqs[-1][-1])\n",
    "fddp = crocoddyl.SolverFDDP(problem)\n",
    "\n",
    "# Creating display\n",
    "display = createDisplay([target])\n",
    "\n",
    "# Adding callbacks to inspect the evolution of the solver (logs are printed in the terminal)\n",
    "fddp.setCallbacks([crocoddyl.CallbackVerbose(), crocoddyl.CallbackDisplay(display)])\n",
    "\n",
    "# Embedded in this cell\n",
    "display.robot.viewer.jupyter_cell()"
   ]
  },
  {
   "cell_type": "markdown",
   "metadata": {},
   "source": [
    "Let's solve this problem!"
   ]
  },
  {
   "cell_type": "code",
   "execution_count": 34,
   "metadata": {
    "ExecuteTime": {
     "end_time": "2024-03-22T20:29:18.803462Z",
     "start_time": "2024-03-22T20:29:18.285034Z"
    }
   },
   "outputs": [
    {
     "name": "stdout",
     "output_type": "stream",
     "text": [
      "iter    cost       merit      stop       grad       preg       dreg      step   ||ffeas||  ||gfeas||  ||hfeas||   dV-exp       dV      dPhi-exp     dPhi\n",
      "   0  2.236e+02  0.000e+00  2.458e+02  4.086e+02  1.000e-09  1.000e-09  0.0625  1.152e+00  0.000e+00  0.000e+00  2.733e+01  2.956e+01  0.000e+00  0.000e+00\n",
      "   1  1.991e+02  0.000e+00  2.175e+02  3.621e+02  1.000e-09  1.000e-09  0.0625  1.080e+00  0.000e+00  0.000e+00  2.420e+01  2.445e+01  0.000e+00  0.000e+00\n",
      "   2  1.873e+02  0.000e+00  1.935e+02  3.216e+02  1.000e-09  1.000e-09  0.0312  1.013e+00  0.000e+00  0.000e+00  1.091e+01  1.186e+01  0.000e+00  0.000e+00\n",
      "   3  1.780e+02  0.000e+00  1.820e+02  3.035e+02  1.000e-09  1.000e-09  0.0625  9.810e-01  0.000e+00  0.000e+00  2.027e+01  9.281e+00  0.000e+00  0.000e+00\n",
      "   4  1.526e+02  0.000e+00  1.714e+02  2.861e+02  1.000e-09  1.000e-09  0.0625  9.197e-01  0.000e+00  0.000e+00  1.910e+01  2.535e+01  0.000e+00  0.000e+00\n",
      "   5  1.116e+02  0.000e+00  1.472e+02  2.550e+02  1.000e-09  1.000e-09  0.1250  8.622e-01  0.000e+00  0.000e+00  3.235e+01  4.108e+01  0.000e+00  0.000e+00\n",
      "   6  8.769e+01  0.000e+00  1.071e+02  1.812e+02  1.000e-09  1.000e-09  0.1250  7.545e-01  0.000e+00  0.000e+00  2.330e+01  2.387e+01  0.000e+00  0.000e+00\n",
      "   7  6.870e+01  0.000e+00  8.341e+01  1.423e+02  1.000e-09  1.000e-09  0.1250  6.602e-01  0.000e+00  0.000e+00  1.821e+01  1.899e+01  0.000e+00  0.000e+00\n",
      "   8  4.816e+01  0.000e+00  6.464e+01  1.126e+02  1.000e-09  1.000e-09  0.2500  5.776e-01  0.000e+00  0.000e+00  2.671e+01  2.054e+01  0.000e+00  0.000e+00\n",
      "   9  3.018e+01  0.000e+00  4.418e+01  7.945e+01  1.000e-09  1.000e-09  0.2500  4.332e-01  0.000e+00  0.000e+00  1.849e+01  1.798e+01  0.000e+00  0.000e+00\n",
      "iter    cost       merit      stop       grad       preg       dreg      step   ||ffeas||  ||gfeas||  ||hfeas||   dV-exp       dV      dPhi-exp     dPhi\n",
      "  10  2.493e+01  0.000e+00  2.634e+01  4.537e+01  1.000e-09  1.000e-09  0.5000  3.249e-01  0.000e+00  0.000e+00  1.884e+01  5.242e+00  0.000e+00  0.000e+00\n",
      "  11  1.479e+01  0.000e+00  2.126e+01  4.017e+01  1.000e-09  1.000e-09  0.2500  1.625e-01  0.000e+00  0.000e+00  9.080e+00  1.015e+01  0.000e+00  0.000e+00\n",
      "  12  5.628e+00  0.000e+00  1.130e+01  2.123e+01  1.000e-09  1.000e-09  0.5000  1.218e-01  0.000e+00  0.000e+00  8.305e+00  9.158e+00  0.000e+00  0.000e+00\n",
      "  13  3.775e+00  0.000e+00  2.313e+00  4.042e+00  1.000e-09  1.000e-09  1.0000  6.092e-02  0.000e+00  0.000e+00  2.313e+00  1.853e+00  0.000e+00  0.000e+00\n",
      "  14  3.106e+00  0.000e+00  8.346e-01  1.669e+00  1.000e-09  1.000e-09  0.5000  0.000e+00  0.000e+00  0.000e+00  6.260e-01  6.684e-01  0.000e+00  0.000e+00\n",
      "  15  2.837e+00  0.000e+00  3.496e-01  6.991e-01  1.000e-09  1.000e-09  0.5000  0.000e+00  0.000e+00  0.000e+00  2.622e-01  2.691e-01  0.000e+00  0.000e+00\n",
      "  16  2.786e+00  0.000e+00  9.330e-02  1.866e-01  1.000e-09  1.000e-09  1.0000  0.000e+00  0.000e+00  0.000e+00  9.330e-02  5.118e-02  0.000e+00  0.000e+00\n",
      "  17  2.744e+00  0.000e+00  4.617e-02  9.234e-02  1.000e-09  1.000e-09  1.0000  0.000e+00  0.000e+00  0.000e+00  4.617e-02  4.180e-02  0.000e+00  0.000e+00\n",
      "  18  2.740e+00  0.000e+00  4.151e-03  8.302e-03  1.000e-09  1.000e-09  1.0000  0.000e+00  0.000e+00  0.000e+00  4.151e-03  4.086e-03  0.000e+00  0.000e+00\n",
      "  19  2.740e+00  0.000e+00  3.270e-05  6.540e-05  1.000e-09  1.000e-09  1.0000  0.000e+00  0.000e+00  0.000e+00  3.270e-05  3.090e-05  0.000e+00  0.000e+00\n",
      "iter    cost       merit      stop       grad       preg       dreg      step   ||ffeas||  ||gfeas||  ||hfeas||   dV-exp       dV      dPhi-exp     dPhi\n",
      "  20  2.740e+00  0.000e+00  2.235e-06  4.470e-06  1.000e-09  1.000e-09  1.0000  0.000e+00  0.000e+00  0.000e+00  2.235e-06  2.307e-06  0.000e+00  0.000e+00\n",
      "  21  2.740e+00  0.000e+00  2.262e-07  4.525e-07  1.000e-09  1.000e-09  1.0000  0.000e+00  0.000e+00  0.000e+00  2.262e-07  2.545e-07  0.000e+00  0.000e+00\n",
      "  22  2.740e+00  0.000e+00  2.677e-08  5.355e-08  1.000e-09  1.000e-09  1.0000  0.000e+00  0.000e+00  0.000e+00  2.677e-08  3.172e-08  0.000e+00  0.000e+00\n",
      "  23  2.740e+00  0.000e+00  3.433e-09  6.867e-09  1.000e-09  1.000e-09  1.0000  0.000e+00  0.000e+00  0.000e+00  3.433e-09  4.178e-09  0.000e+00  0.000e+00\n",
      "Problem solved:  24  2.740e+00  0.000e+00  4.573e-10  9.147e-10  1.000e-09  1.000e-09  1.0000  0.000e+00  0.000e+00  0.000e+00  4.573e-10  5.642e-10  0.000e+00  0.000e+00\n",
      " True\n",
      "Number of iterations: 24\n",
      "Total cost: 2.7403080856015323\n",
      "Gradient norm: 4.5732913195252195e-10\n"
     ]
    }
   ],
   "source": [
    "print(\"Problem solved:\", fddp.solve())\n",
    "print(\"Number of iterations:\", fddp.iter)\n",
    "print(\"Total cost:\", fddp.cost)\n",
    "print(\"Gradient norm:\", fddp.stoppingCriteria())"
   ]
  },
  {
   "cell_type": "markdown",
   "metadata": {},
   "source": [
    "You could display again the final solution"
   ]
  },
  {
   "cell_type": "code",
   "execution_count": 35,
   "metadata": {
    "ExecuteTime": {
     "end_time": "2024-03-22T20:29:32.997281Z",
     "start_time": "2024-03-22T20:29:31.794235Z"
    }
   },
   "outputs": [],
   "source": [
    "display.rate = -1\n",
    "display.freq = 1\n",
    "display.displayFromSolver(fddp)"
   ]
  },
  {
   "cell_type": "code",
   "outputs": [],
   "source": [],
   "metadata": {
    "collapsed": false
   }
  },
  {
   "cell_type": "markdown",
   "metadata": {},
   "source": [
    "## Modifying the example\n",
    "\n",
    "Let's build an optimal control problem to reach 4 targets as described below:"
   ]
  },
  {
   "cell_type": "code",
   "execution_count": 14,
   "metadata": {
    "ExecuteTime": {
     "end_time": "2024-03-22T20:10:13.598903Z",
     "start_time": "2024-03-22T20:10:13.596399Z"
    }
   },
   "outputs": [],
   "source": [
    "targets = []\n",
    "targets += [np.array([0.4, 0.1, 1.2])]\n",
    "targets += [np.array([0.6, 0.1, 1.2])]\n",
    "targets += [np.array([0.6, -0.1, 1.2])]\n",
    "targets += [np.array([0.4, -0.1, 1.2])]"
   ]
  },
  {
   "cell_type": "markdown",
   "metadata": {},
   "source": [
    "Now let's display the targets in Meshcat. Do not forget to embed again the display into the jupyter cell"
   ]
  },
  {
   "cell_type": "code",
   "execution_count": 15,
   "metadata": {
    "ExecuteTime": {
     "end_time": "2024-03-22T20:10:15.817227Z",
     "start_time": "2024-03-22T20:10:15.563738Z"
    }
   },
   "outputs": [
    {
     "name": "stdout",
     "output_type": "stream",
     "text": [
      "You can open the visualizer by visiting the following URL:\n",
      "http://127.0.0.1:7001/static/\n"
     ]
    },
    {
     "data": {
      "text/plain": "<IPython.core.display.HTML object>",
      "text/html": "\n            <div style=\"height: 400px; width: 100%; overflow-x: auto; overflow-y: hidden; resize: both\">\n            <iframe src=\"http://127.0.0.1:7001/static/\" style=\"width: 100%; height: 100%; border: none\"></iframe>\n            </div>\n            "
     },
     "execution_count": 15,
     "metadata": {},
     "output_type": "execute_result"
    }
   ],
   "source": [
    "display = createDisplay(targets)\n",
    "\n",
    "# Embedded in this cell\n",
    "display.robot.viewer.jupyter_cell()"
   ]
  },
  {
   "cell_type": "markdown",
   "metadata": {},
   "source": [
    "After checking that everything is alright, it's time to build the sequence!\n",
    "Do not forget to create the problem as well :)"
   ]
  },
  {
   "cell_type": "markdown",
   "metadata": {},
   "source": [
    "And we solve it as before"
   ]
  },
  {
   "cell_type": "code",
   "execution_count": 16,
   "metadata": {
    "ExecuteTime": {
     "end_time": "2024-03-22T20:10:20.823452Z",
     "start_time": "2024-03-22T20:10:20.303554Z"
    }
   },
   "outputs": [
    {
     "name": "stdout",
     "output_type": "stream",
     "text": [
      "iter    cost       merit      stop       grad       preg       dreg      step   ||ffeas||  ||gfeas||  ||hfeas||   dV-exp       dV      dPhi-exp     dPhi\n",
      "   0  2.236e+02  0.000e+00  2.458e+02  4.086e+02  1.000e-09  1.000e-09  0.0625  1.152e+00  0.000e+00  0.000e+00  2.733e+01  2.956e+01  0.000e+00  0.000e+00\n",
      "   1  1.991e+02  0.000e+00  2.175e+02  3.621e+02  1.000e-09  1.000e-09  0.0625  1.080e+00  0.000e+00  0.000e+00  2.420e+01  2.445e+01  0.000e+00  0.000e+00\n",
      "   2  1.873e+02  0.000e+00  1.935e+02  3.216e+02  1.000e-09  1.000e-09  0.0312  1.013e+00  0.000e+00  0.000e+00  1.091e+01  1.186e+01  0.000e+00  0.000e+00\n",
      "   3  1.780e+02  0.000e+00  1.820e+02  3.035e+02  1.000e-09  1.000e-09  0.0625  9.810e-01  0.000e+00  0.000e+00  2.027e+01  9.281e+00  0.000e+00  0.000e+00\n",
      "   4  1.526e+02  0.000e+00  1.714e+02  2.861e+02  1.000e-09  1.000e-09  0.0625  9.197e-01  0.000e+00  0.000e+00  1.910e+01  2.535e+01  0.000e+00  0.000e+00\n",
      "   5  1.116e+02  0.000e+00  1.472e+02  2.550e+02  1.000e-09  1.000e-09  0.1250  8.622e-01  0.000e+00  0.000e+00  3.235e+01  4.108e+01  0.000e+00  0.000e+00\n",
      "   6  8.769e+01  0.000e+00  1.071e+02  1.812e+02  1.000e-09  1.000e-09  0.1250  7.545e-01  0.000e+00  0.000e+00  2.330e+01  2.387e+01  0.000e+00  0.000e+00\n",
      "   7  6.870e+01  0.000e+00  8.341e+01  1.423e+02  1.000e-09  1.000e-09  0.1250  6.602e-01  0.000e+00  0.000e+00  1.821e+01  1.899e+01  0.000e+00  0.000e+00\n",
      "   8  4.816e+01  0.000e+00  6.464e+01  1.126e+02  1.000e-09  1.000e-09  0.2500  5.776e-01  0.000e+00  0.000e+00  2.671e+01  2.054e+01  0.000e+00  0.000e+00\n",
      "   9  3.018e+01  0.000e+00  4.418e+01  7.945e+01  1.000e-09  1.000e-09  0.2500  4.332e-01  0.000e+00  0.000e+00  1.849e+01  1.798e+01  0.000e+00  0.000e+00\n",
      "iter    cost       merit      stop       grad       preg       dreg      step   ||ffeas||  ||gfeas||  ||hfeas||   dV-exp       dV      dPhi-exp     dPhi\n",
      "  10  2.493e+01  0.000e+00  2.634e+01  4.537e+01  1.000e-09  1.000e-09  0.5000  3.249e-01  0.000e+00  0.000e+00  1.884e+01  5.242e+00  0.000e+00  0.000e+00\n",
      "  11  1.479e+01  0.000e+00  2.126e+01  4.017e+01  1.000e-09  1.000e-09  0.2500  1.625e-01  0.000e+00  0.000e+00  9.080e+00  1.015e+01  0.000e+00  0.000e+00\n",
      "  12  5.628e+00  0.000e+00  1.130e+01  2.123e+01  1.000e-09  1.000e-09  0.5000  1.218e-01  0.000e+00  0.000e+00  8.305e+00  9.158e+00  0.000e+00  0.000e+00\n",
      "  13  3.775e+00  0.000e+00  2.313e+00  4.042e+00  1.000e-09  1.000e-09  1.0000  6.092e-02  0.000e+00  0.000e+00  2.313e+00  1.853e+00  0.000e+00  0.000e+00\n",
      "  14  3.106e+00  0.000e+00  8.346e-01  1.669e+00  1.000e-09  1.000e-09  0.5000  0.000e+00  0.000e+00  0.000e+00  6.260e-01  6.684e-01  0.000e+00  0.000e+00\n",
      "  15  2.837e+00  0.000e+00  3.496e-01  6.991e-01  1.000e-09  1.000e-09  0.5000  0.000e+00  0.000e+00  0.000e+00  2.622e-01  2.691e-01  0.000e+00  0.000e+00\n",
      "  16  2.786e+00  0.000e+00  9.330e-02  1.866e-01  1.000e-09  1.000e-09  1.0000  0.000e+00  0.000e+00  0.000e+00  9.330e-02  5.118e-02  0.000e+00  0.000e+00\n",
      "  17  2.744e+00  0.000e+00  4.617e-02  9.234e-02  1.000e-09  1.000e-09  1.0000  0.000e+00  0.000e+00  0.000e+00  4.617e-02  4.180e-02  0.000e+00  0.000e+00\n",
      "  18  2.740e+00  0.000e+00  4.151e-03  8.302e-03  1.000e-09  1.000e-09  1.0000  0.000e+00  0.000e+00  0.000e+00  4.151e-03  4.086e-03  0.000e+00  0.000e+00\n",
      "  19  2.740e+00  0.000e+00  3.270e-05  6.540e-05  1.000e-09  1.000e-09  1.0000  0.000e+00  0.000e+00  0.000e+00  3.270e-05  3.090e-05  0.000e+00  0.000e+00\n",
      "iter    cost       merit      stop       grad       preg       dreg      step   ||ffeas||  ||gfeas||  ||hfeas||   dV-exp       dV      dPhi-exp     dPhi\n",
      "  20  2.740e+00  0.000e+00  2.235e-06  4.470e-06  1.000e-09  1.000e-09  1.0000  0.000e+00  0.000e+00  0.000e+00  2.235e-06  2.307e-06  0.000e+00  0.000e+00\n",
      "  21  2.740e+00  0.000e+00  2.262e-07  4.525e-07  1.000e-09  1.000e-09  1.0000  0.000e+00  0.000e+00  0.000e+00  2.262e-07  2.545e-07  0.000e+00  0.000e+00\n",
      "  22  2.740e+00  0.000e+00  2.677e-08  5.355e-08  1.000e-09  1.000e-09  1.0000  0.000e+00  0.000e+00  0.000e+00  2.677e-08  3.172e-08  0.000e+00  0.000e+00\n",
      "  23  2.740e+00  0.000e+00  3.433e-09  6.867e-09  1.000e-09  1.000e-09  1.0000  0.000e+00  0.000e+00  0.000e+00  3.433e-09  4.178e-09  0.000e+00  0.000e+00\n",
      "Problem solved:  24  2.740e+00  0.000e+00  4.573e-10  9.147e-10  1.000e-09  1.000e-09  1.0000  0.000e+00  0.000e+00  0.000e+00  4.573e-10  5.642e-10  0.000e+00  0.000e+00\n",
      " True\n",
      "Number of iterations: 24\n",
      "Total cost: 2.7403080856015323\n",
      "Gradient norm: 4.5732913195252195e-10\n"
     ]
    }
   ],
   "source": [
    "# Create the FDDP solver\n",
    "fddp = crocoddyl.SolverFDDP(problem)\n",
    "fddp.setCallbacks([crocoddyl.CallbackVerbose(), crocoddyl.CallbackDisplay(display)])\n",
    "\n",
    "# Solves the problem\n",
    "print(\"Problem solved:\", fddp.solve())\n",
    "print(\"Number of iterations:\", fddp.iter)\n",
    "print(\"Total cost:\", fddp.cost)\n",
    "print(\"Gradient norm:\", fddp.stoppingCriteria())"
   ]
  },
  {
   "cell_type": "markdown",
   "source": [],
   "metadata": {
    "collapsed": false
   }
  },
  {
   "cell_type": "code",
   "outputs": [
    {
     "name": "stdout",
     "output_type": "stream",
     "text": [
      "iter    cost       merit      stop       grad       preg       dreg      step   ||ffeas||  ||gfeas||  ||hfeas||   dV-exp       dV      dPhi-exp     dPhi\n",
      "   0  2.236e+02  0.000e+00  2.458e+02  4.086e+02  1.000e-09  1.000e-09  0.0625  1.152e+00  0.000e+00  0.000e+00  2.733e+01  2.956e+01  0.000e+00  0.000e+00\n",
      "   1  1.991e+02  0.000e+00  2.175e+02  3.621e+02  1.000e-09  1.000e-09  0.0625  1.080e+00  0.000e+00  0.000e+00  2.420e+01  2.445e+01  0.000e+00  0.000e+00\n",
      "   2  1.873e+02  0.000e+00  1.935e+02  3.216e+02  1.000e-09  1.000e-09  0.0312  1.013e+00  0.000e+00  0.000e+00  1.091e+01  1.186e+01  0.000e+00  0.000e+00\n",
      "   3  1.780e+02  0.000e+00  1.820e+02  3.035e+02  1.000e-09  1.000e-09  0.0625  9.810e-01  0.000e+00  0.000e+00  2.027e+01  9.281e+00  0.000e+00  0.000e+00\n",
      "   4  1.526e+02  0.000e+00  1.714e+02  2.861e+02  1.000e-09  1.000e-09  0.0625  9.197e-01  0.000e+00  0.000e+00  1.910e+01  2.535e+01  0.000e+00  0.000e+00\n",
      "   5  1.116e+02  0.000e+00  1.472e+02  2.550e+02  1.000e-09  1.000e-09  0.1250  8.622e-01  0.000e+00  0.000e+00  3.235e+01  4.108e+01  0.000e+00  0.000e+00\n",
      "   6  8.769e+01  0.000e+00  1.071e+02  1.812e+02  1.000e-09  1.000e-09  0.1250  7.545e-01  0.000e+00  0.000e+00  2.330e+01  2.387e+01  0.000e+00  0.000e+00\n",
      "   7  6.870e+01  0.000e+00  8.341e+01  1.423e+02  1.000e-09  1.000e-09  0.1250  6.602e-01  0.000e+00  0.000e+00  1.821e+01  1.899e+01  0.000e+00  0.000e+00\n",
      "   8  4.816e+01  0.000e+00  6.464e+01  1.126e+02  1.000e-09  1.000e-09  0.2500  5.776e-01  0.000e+00  0.000e+00  2.671e+01  2.054e+01  0.000e+00  0.000e+00\n",
      "   9  3.018e+01  0.000e+00  4.418e+01  7.945e+01  1.000e-09  1.000e-09  0.2500  4.332e-01  0.000e+00  0.000e+00  1.849e+01  1.798e+01  0.000e+00  0.000e+00\n",
      "iter    cost       merit      stop       grad       preg       dreg      step   ||ffeas||  ||gfeas||  ||hfeas||   dV-exp       dV      dPhi-exp     dPhi\n",
      "  10  2.493e+01  0.000e+00  2.634e+01  4.537e+01  1.000e-09  1.000e-09  0.5000  3.249e-01  0.000e+00  0.000e+00  1.884e+01  5.242e+00  0.000e+00  0.000e+00\n",
      "  11  1.479e+01  0.000e+00  2.126e+01  4.017e+01  1.000e-09  1.000e-09  0.2500  1.625e-01  0.000e+00  0.000e+00  9.080e+00  1.015e+01  0.000e+00  0.000e+00\n",
      "  12  5.628e+00  0.000e+00  1.130e+01  2.123e+01  1.000e-09  1.000e-09  0.5000  1.218e-01  0.000e+00  0.000e+00  8.305e+00  9.158e+00  0.000e+00  0.000e+00\n",
      "  13  3.775e+00  0.000e+00  2.313e+00  4.042e+00  1.000e-09  1.000e-09  1.0000  6.092e-02  0.000e+00  0.000e+00  2.313e+00  1.853e+00  0.000e+00  0.000e+00\n",
      "  14  3.106e+00  0.000e+00  8.346e-01  1.669e+00  1.000e-09  1.000e-09  0.5000  0.000e+00  0.000e+00  0.000e+00  6.260e-01  6.684e-01  0.000e+00  0.000e+00\n",
      "  15  2.837e+00  0.000e+00  3.496e-01  6.991e-01  1.000e-09  1.000e-09  0.5000  0.000e+00  0.000e+00  0.000e+00  2.622e-01  2.691e-01  0.000e+00  0.000e+00\n",
      "  16  2.786e+00  0.000e+00  9.330e-02  1.866e-01  1.000e-09  1.000e-09  1.0000  0.000e+00  0.000e+00  0.000e+00  9.330e-02  5.118e-02  0.000e+00  0.000e+00\n",
      "  17  2.744e+00  0.000e+00  4.617e-02  9.234e-02  1.000e-09  1.000e-09  1.0000  0.000e+00  0.000e+00  0.000e+00  4.617e-02  4.180e-02  0.000e+00  0.000e+00\n",
      "  18  2.740e+00  0.000e+00  4.151e-03  8.302e-03  1.000e-09  1.000e-09  1.0000  0.000e+00  0.000e+00  0.000e+00  4.151e-03  4.086e-03  0.000e+00  0.000e+00\n",
      "  19  2.740e+00  0.000e+00  3.270e-05  6.540e-05  1.000e-09  1.000e-09  1.0000  0.000e+00  0.000e+00  0.000e+00  3.270e-05  3.090e-05  0.000e+00  0.000e+00\n",
      "iter    cost       merit      stop       grad       preg       dreg      step   ||ffeas||  ||gfeas||  ||hfeas||   dV-exp       dV      dPhi-exp     dPhi\n",
      "  20  2.740e+00  0.000e+00  2.235e-06  4.470e-06  1.000e-09  1.000e-09  1.0000  0.000e+00  0.000e+00  0.000e+00  2.235e-06  2.307e-06  0.000e+00  0.000e+00\n",
      "  21  2.740e+00  0.000e+00  2.262e-07  4.525e-07  1.000e-09  1.000e-09  1.0000  0.000e+00  0.000e+00  0.000e+00  2.262e-07  2.545e-07  0.000e+00  0.000e+00\n",
      "  22  2.740e+00  0.000e+00  2.677e-08  5.355e-08  1.000e-09  1.000e-09  1.0000  0.000e+00  0.000e+00  0.000e+00  2.677e-08  3.172e-08  0.000e+00  0.000e+00\n",
      "  23  2.740e+00  0.000e+00  3.433e-09  6.867e-09  1.000e-09  1.000e-09  1.0000  0.000e+00  0.000e+00  0.000e+00  3.433e-09  4.178e-09  0.000e+00  0.000e+00\n",
      "  24  2.740e+00  0.000e+00  4.573e-10  9.147e-10  1.000e-09  1.000e-09  1.0000  0.000e+00  0.000e+00  0.000e+00  4.573e-10  5.642e-10  0.000e+00  0.000e+00\n"
     ]
    },
    {
     "data": {
      "text/plain": "True"
     },
     "execution_count": 41,
     "metadata": {},
     "output_type": "execute_result"
    }
   ],
   "source": [
    "fddp.solve()"
   ],
   "metadata": {
    "collapsed": false,
    "ExecuteTime": {
     "end_time": "2024-03-22T20:43:58.660598Z",
     "start_time": "2024-03-22T20:43:29.347367Z"
    }
   },
   "execution_count": 41
  },
  {
   "cell_type": "markdown",
   "metadata": {},
   "source": [
    "Do not miss the change to display the motion at the right display speed!"
   ]
  },
  {
   "cell_type": "code",
   "execution_count": 21,
   "metadata": {
    "ExecuteTime": {
     "end_time": "2024-03-22T20:10:30.014100Z",
     "start_time": "2024-03-22T20:10:28.836013Z"
    }
   },
   "outputs": [],
   "source": [
    "display.rate = -1\n",
    "display.freq = 1\n",
    "display.displayFromSolver(fddp)"
   ]
  },
  {
   "cell_type": "markdown",
   "metadata": {},
   "source": [
    "## Same targets with right hand\n",
    "\n",
    "You've learned how to reach 4 targets with the left hand, congratulations!\n",
    "\n",
    "To keep playing within this problem, you should create a new createActionModel to achieve the same task for the right hand."
   ]
  },
  {
   "cell_type": "code",
   "execution_count": null,
   "metadata": {},
   "outputs": [],
   "source": [
    "def createActionModel(target):\n",
    "    # now god is with you xD\n",
    "    # time to show you up!"
   ]
  },
  {
   "cell_type": "markdown",
   "metadata": {},
   "source": [
    "And here you need to create the problem and solve.\n",
    "Do not forget to display the results"
   ]
  },
  {
   "cell_type": "code",
   "execution_count": null,
   "metadata": {},
   "outputs": [],
   "source": []
  }
 ],
 "metadata": {
  "kernelspec": {
   "display_name": "Python 3",
   "language": "python",
   "name": "python3"
  },
  "language_info": {
   "codemirror_mode": {
    "name": "ipython",
    "version": 2
   },
   "file_extension": ".py",
   "mimetype": "text/x-python",
   "name": "python",
   "nbconvert_exporter": "python",
   "pygments_lexer": "ipython2",
   "version": "3.10.4"
  },
  "vscode": {
   "interpreter": {
    "hash": "aee8b7b246df8f9039afb4144a1f6fd8d2ca17a180786b69acc140d282b71a49"
   }
  }
 },
 "nbformat": 4,
 "nbformat_minor": 2
}
