{
 "cells": [
  {
   "cell_type": "code",
   "execution_count": 12,
   "id": "initial_id",
   "metadata": {
    "collapsed": true,
    "ExecuteTime": {
     "end_time": "2024-03-18T02:12:31.998930Z",
     "start_time": "2024-03-18T02:12:31.666606Z"
    }
   },
   "outputs": [],
   "source": [
    "from typing import Tuple, Sequence, Dict\n",
    "%matplotlib inline\n",
    "%matplotlib widget\n",
    "import numpy as np\n",
    "import math\n",
    "import torch\n",
    "import torch.nn as nn\n",
    "import collections\n",
    "import zarr\n",
    "\n",
    "from diffusers.schedulers.scheduling_ddpm import DDPMScheduler\n",
    "from diffusers.training_utils import EMAModel\n",
    "from diffusers.optimization import get_scheduler\n",
    "from tqdm.auto import tqdm\n",
    "\n",
    "import gym\n",
    "from gym import spaces\n",
    "import pygame\n",
    "import pymunk\n",
    "import pymunk.pygame_util\n",
    "from pymunk.space_debug_draw_options import SpaceDebugColor\n",
    "from pymunk.vec2d import Vec2d\n",
    "import shapely.geometry as sg\n",
    "import cv2\n",
    "import skimage.transform as st\n",
    "from skvideo.io import vwrite\n",
    "from IPython.display import Video\n",
    "from pusht import PushTEnv\n",
    "from diffusion_network import ConditionalUnet1D\n",
    "import gdown\n",
    "import os"
   ]
  },
  {
   "cell_type": "code",
   "outputs": [],
   "source": [
    "#@markdown ### **Dataset**\n",
    "#@markdown\n",
    "#@markdown Defines `PushTStateDataset` and helper functions\n",
    "#@markdown\n",
    "#@markdown The dataset class\n",
    "#@markdown - Load data (obs, action) from a zarr storage\n",
    "#@markdown - Normalizes each dimension of obs and action to [-1,1]\n",
    "#@markdown - Returns\n",
    "#@markdown  - All possible segments with length `pred_horizon`\n",
    "#@markdown  - Pads the beginning and the end of each episode with repetition\n",
    "#@markdown  - key `obs`: shape (obs_horizon, obs_dim)\n",
    "#@markdown  - key `action`: shape (pred_horizon, action_dim)\n",
    "\n",
    "def create_sample_indices(\n",
    "        episode_ends: np.ndarray, sequence_length: int,\n",
    "        pad_before: int = 0, pad_after: int = 0):\n",
    "    indices = list()\n",
    "    for i in range(len(episode_ends)):\n",
    "        start_idx = 0\n",
    "        if i > 0:\n",
    "            start_idx = episode_ends[i - 1]\n",
    "        end_idx = episode_ends[i]\n",
    "        episode_length = end_idx - start_idx\n",
    "\n",
    "        min_start = -pad_before\n",
    "        max_start = episode_length - sequence_length + pad_after\n",
    "\n",
    "        # range stops one idx before end\n",
    "        for idx in range(min_start, max_start + 1):\n",
    "            buffer_start_idx = max(idx, 0) + start_idx\n",
    "            buffer_end_idx = min(idx + sequence_length, episode_length) + start_idx\n",
    "            start_offset = buffer_start_idx - (idx + start_idx)\n",
    "            end_offset = (idx + sequence_length + start_idx) - buffer_end_idx\n",
    "            sample_start_idx = 0 + start_offset\n",
    "            sample_end_idx = sequence_length - end_offset\n",
    "            indices.append([\n",
    "                buffer_start_idx, buffer_end_idx,\n",
    "                sample_start_idx, sample_end_idx])\n",
    "    indices = np.array(indices)\n",
    "    return indices\n",
    "\n",
    "\n",
    "def sample_sequence(train_data, sequence_length,\n",
    "                    buffer_start_idx, buffer_end_idx,\n",
    "                    sample_start_idx, sample_end_idx):\n",
    "    result = dict()\n",
    "    for key, input_arr in train_data.items():\n",
    "        sample = input_arr[buffer_start_idx:buffer_end_idx]\n",
    "        data = sample\n",
    "        if (sample_start_idx > 0) or (sample_end_idx < sequence_length):\n",
    "            data = np.zeros(\n",
    "                shape=(sequence_length,) + input_arr.shape[1:],\n",
    "                dtype=input_arr.dtype)\n",
    "            if sample_start_idx > 0:\n",
    "                data[:sample_start_idx] = sample[0]\n",
    "            if sample_end_idx < sequence_length:\n",
    "                data[sample_end_idx:] = sample[-1]\n",
    "            data[sample_start_idx:sample_end_idx] = sample\n",
    "        result[key] = data\n",
    "    return result\n",
    "\n",
    "\n",
    "# normalize data\n",
    "def get_data_stats(data):\n",
    "    data = data.reshape(-1, data.shape[-1])\n",
    "    stats = {\n",
    "        'min': np.min(data, axis=0),\n",
    "        'max': np.max(data, axis=0)\n",
    "    }\n",
    "    return stats\n",
    "\n",
    "\n",
    "def normalize_data(data, stats):\n",
    "    # nomalize to [0,1]\n",
    "    ndata = (data - stats['min']) / (stats['max'] - stats['min'])\n",
    "    # normalize to [-1, 1]\n",
    "    ndata = ndata * 2 - 1\n",
    "    return ndata\n",
    "\n",
    "\n",
    "def unnormalize_data(ndata, stats):\n",
    "    ndata = (ndata + 1) / 2\n",
    "    data = ndata * (stats['max'] - stats['min']) + stats['min']\n",
    "    return data\n",
    "\n",
    "\n",
    "# dataset\n",
    "class PushTStateDataset(torch.utils.data.Dataset):\n",
    "    def __init__(self, dataset_path,\n",
    "                 pred_horizon, obs_horizon, action_horizon):\n",
    "        # read from zarr dataset\n",
    "        dataset_root = zarr.open(dataset_path, 'r')\n",
    "        # All demonstration episodes are concatinated in the first dimension N\n",
    "        train_data = {\n",
    "            # (N, action_dim)\n",
    "            'action': dataset_root['data']['action'][:],\n",
    "            # (N, obs_dim)\n",
    "            'obs': dataset_root['data']['state'][:]\n",
    "        }\n",
    "        # Marks one-past the last index for each episode\n",
    "        episode_ends = dataset_root['meta']['episode_ends'][:]\n",
    "\n",
    "        # compute start and end of each state-action sequence\n",
    "        # also handles padding\n",
    "        indices = create_sample_indices(\n",
    "            episode_ends=episode_ends,\n",
    "            sequence_length=pred_horizon,\n",
    "            # add padding such that each timestep in the dataset are seen\n",
    "            pad_before=obs_horizon - 1,\n",
    "            pad_after=action_horizon - 1)\n",
    "\n",
    "        # compute statistics and normalized data to [-1,1]\n",
    "        stats = dict()\n",
    "        normalized_train_data = dict()\n",
    "        for key, data in train_data.items():\n",
    "            stats[key] = get_data_stats(data)\n",
    "            normalized_train_data[key] = normalize_data(data, stats[key])\n",
    "\n",
    "        self.indices = indices\n",
    "        self.stats = stats\n",
    "        self.normalized_train_data = normalized_train_data\n",
    "        self.pred_horizon = pred_horizon\n",
    "        self.action_horizon = action_horizon\n",
    "        self.obs_horizon = obs_horizon\n",
    "\n",
    "    def __len__(self):\n",
    "        # all possible segments of the dataset\n",
    "        return len(self.indices)\n",
    "\n",
    "    def __getitem__(self, idx):\n",
    "        # get the start/end indices for this datapoint\n",
    "        buffer_start_idx, buffer_end_idx, \\\n",
    "            sample_start_idx, sample_end_idx = self.indices[idx]\n",
    "\n",
    "        # get nomralized data using these indices\n",
    "        nsample = sample_sequence(\n",
    "            train_data=self.normalized_train_data,\n",
    "            sequence_length=self.pred_horizon,\n",
    "            buffer_start_idx=buffer_start_idx,\n",
    "            buffer_end_idx=buffer_end_idx,\n",
    "            sample_start_idx=sample_start_idx,\n",
    "            sample_end_idx=sample_end_idx\n",
    "        )\n",
    "\n",
    "        # discard unused observations\n",
    "        nsample['obs'] = nsample['obs'][:self.obs_horizon, :]\n",
    "        return nsample\n"
   ],
   "metadata": {
    "collapsed": false,
    "ExecuteTime": {
     "end_time": "2024-03-18T01:35:06.295330Z",
     "start_time": "2024-03-18T01:35:06.288109Z"
    }
   },
   "id": "e5bf4ceb31c72ce9",
   "execution_count": 2
  },
  {
   "cell_type": "code",
   "outputs": [
    {
     "name": "stdout",
     "output_type": "stream",
     "text": [
      "Obs:  array([390.8504, 355.0511, 209.    , 242.    ,   3.1283])\n",
      "Obs:        [agent_x,  agent_y,  block_x,  block_y,    block_angle]\n",
      "Action:  array([481.0148, 483.8077])\n",
      "Action:   [target_agent_x, target_agent_y]\n"
     ]
    }
   ],
   "source": [
    "from huggingface_hub.utils import IGNORE_GIT_FOLDER_PATTERNS\n",
    "\n",
    "env = PushTEnv()\n",
    "env.seed(6941)\n",
    "\n",
    "obs, IGNORE_GIT_FOLDER_PATTERNS = env.reset()\n",
    "action = env.action_space.sample()\n",
    "obs, reward, terminated, truncated, info = env.step(action)\n",
    "\n",
    "# prints and explains each dimension of the observation and action vectors\n",
    "with np.printoptions(precision=4, suppress=True, threshold=5):\n",
    "    print(\"Obs: \", repr(obs))\n",
    "    print(\"Obs:        [agent_x,  agent_y,  block_x,  block_y,    block_angle]\")\n",
    "    print(\"Action: \", repr(action))\n",
    "    print(\"Action:   [target_agent_x, target_agent_y]\")"
   ],
   "metadata": {
    "collapsed": false,
    "ExecuteTime": {
     "end_time": "2024-03-18T01:35:07.490756Z",
     "start_time": "2024-03-18T01:35:07.486311Z"
    }
   },
   "id": "d92df6f5134a29b0",
   "execution_count": 3
  },
  {
   "cell_type": "code",
   "outputs": [
    {
     "name": "stdout",
     "output_type": "stream",
     "text": [
      "batch['obs'].shape: torch.Size([256, 2, 5])\n",
      "batch['action'].shape torch.Size([256, 16, 2])\n"
     ]
    }
   ],
   "source": [
    "#@markdown ### **Dataset Demo**\n",
    "\n",
    "# download demonstration data from Google Drive\n",
    "dataset_path = \"pusht_cchi_v7_replay.zarr.zip\"\n",
    "if not os.path.isfile(dataset_path):\n",
    "    id = \"1KY1InLurpMvJDRb14L9NlXT_fEsCvVUq&confirm=t\"\n",
    "    gdown.download(id=id, output=dataset_path, quiet=False)\n",
    "\n",
    "# parameters\n",
    "pred_horizon = 16\n",
    "obs_horizon = 2\n",
    "action_horizon = 8\n",
    "#|o|o|                             observations: 2\n",
    "#| |a|a|a|a|a|a|a|a|               actions executed: 8\n",
    "#|p|p|p|p|p|p|p|p|p|p|p|p|p|p|p|p| actions predicted: 16\n",
    "\n",
    "# create dataset from file\n",
    "dataset = PushTStateDataset(\n",
    "    dataset_path=dataset_path,\n",
    "    pred_horizon=pred_horizon,\n",
    "    obs_horizon=obs_horizon,\n",
    "    action_horizon=action_horizon\n",
    ")\n",
    "# save training data statistics (min, max) for each dim\n",
    "stats = dataset.stats\n",
    "\n",
    "# create dataloader\n",
    "dataloader = torch.utils.data.DataLoader(\n",
    "    dataset,\n",
    "    batch_size=256,\n",
    "    num_workers=1,\n",
    "    shuffle=True,\n",
    "    # accelerate cpu-gpu transfer\n",
    "    pin_memory=True,\n",
    "    # don't kill worker process afte each epoch\n",
    "    persistent_workers=True\n",
    ")\n",
    "\n",
    "# visualize data in batch\n",
    "batch = next(iter(dataloader))\n",
    "print(\"batch['obs'].shape:\", batch['obs'].shape)\n",
    "print(\"batch['action'].shape\", batch['action'].shape)"
   ],
   "metadata": {
    "collapsed": false,
    "ExecuteTime": {
     "end_time": "2024-03-18T01:35:10.171798Z",
     "start_time": "2024-03-18T01:35:09.978458Z"
    }
   },
   "id": "25c88865b19392ba",
   "execution_count": 4
  },
  {
   "cell_type": "code",
   "outputs": [
    {
     "name": "stdout",
     "output_type": "stream",
     "text": [
      "number of parameters: 6.535322e+07\n"
     ]
    }
   ],
   "source": [
    "obs_dim = env.observation_space.shape[0]\n",
    "action_dim = env.action_space.shape[0]\n",
    "\n",
    "# create network object\n",
    "noise_pred_net = ConditionalUnet1D(\n",
    "    input_dim=action_dim,\n",
    "    global_cond_dim=obs_dim*obs_horizon\n",
    ")\n",
    "\n",
    "noised_action = torch.randn((1, pred_horizon, action_dim))\n",
    "obs = torch.zeros((1, obs_horizon, obs_dim))\n",
    "diffusion_iter = torch.zeros((1, ))\n",
    "\n",
    "noise = noise_pred_net(\n",
    "    sample=noised_action,\n",
    "    timestep=diffusion_iter,\n",
    "    global_cond=obs.flatten(start_dim=1))\n",
    "\n",
    "denoised_action = noised_action - noise\n",
    "\n",
    "\n",
    "num_diffusion_iters = 100\n",
    "noise_sceduler = DDPMScheduler(\n",
    "    num_train_timesteps=num_diffusion_iters,\n",
    "    beta_schedule=\"squaredcos_cap_v2\",\n",
    "    clip_sample=True,\n",
    "    prediction_type=\"epsilon\"\n",
    ")\n",
    "device = torch.device(\"cuda\")\n",
    "_ = noise_pred_net.to(device)"
   ],
   "metadata": {
    "collapsed": false,
    "ExecuteTime": {
     "end_time": "2024-03-18T01:35:45.829401Z",
     "start_time": "2024-03-18T01:35:45.467787Z"
    }
   },
   "id": "8fef81cfaebcaeb1",
   "execution_count": 7
  },
  {
   "cell_type": "code",
   "outputs": [
    {
     "data": {
      "text/plain": "Epoch:   0%|          | 0/100 [00:00<?, ?it/s]",
      "application/vnd.jupyter.widget-view+json": {
       "version_major": 2,
       "version_minor": 0,
       "model_id": "217dcc014ff94039803c2a6229d604cc"
      }
     },
     "metadata": {},
     "output_type": "display_data"
    },
    {
     "data": {
      "text/plain": "Batch:   0%|          | 0/95 [00:00<?, ?it/s]",
      "application/vnd.jupyter.widget-view+json": {
       "version_major": 2,
       "version_minor": 0,
       "model_id": "b2ae9912b7434391a1a0c79e9dfb75a5"
      }
     },
     "metadata": {},
     "output_type": "display_data"
    },
    {
     "data": {
      "text/plain": "Batch:   0%|          | 0/95 [00:00<?, ?it/s]",
      "application/vnd.jupyter.widget-view+json": {
       "version_major": 2,
       "version_minor": 0,
       "model_id": "73f91bf3d0aa429a9297adfadf56d0cb"
      }
     },
     "metadata": {},
     "output_type": "display_data"
    },
    {
     "data": {
      "text/plain": "Batch:   0%|          | 0/95 [00:00<?, ?it/s]",
      "application/vnd.jupyter.widget-view+json": {
       "version_major": 2,
       "version_minor": 0,
       "model_id": "8e91c956a9e948e3a2313c3100c617f8"
      }
     },
     "metadata": {},
     "output_type": "display_data"
    },
    {
     "data": {
      "text/plain": "Batch:   0%|          | 0/95 [00:00<?, ?it/s]",
      "application/vnd.jupyter.widget-view+json": {
       "version_major": 2,
       "version_minor": 0,
       "model_id": "0f3ab151f35241ccb449b2c46da9c83a"
      }
     },
     "metadata": {},
     "output_type": "display_data"
    },
    {
     "data": {
      "text/plain": "Batch:   0%|          | 0/95 [00:00<?, ?it/s]",
      "application/vnd.jupyter.widget-view+json": {
       "version_major": 2,
       "version_minor": 0,
       "model_id": "eea619b1c0d64da4929f59dd59572093"
      }
     },
     "metadata": {},
     "output_type": "display_data"
    },
    {
     "data": {
      "text/plain": "Batch:   0%|          | 0/95 [00:00<?, ?it/s]",
      "application/vnd.jupyter.widget-view+json": {
       "version_major": 2,
       "version_minor": 0,
       "model_id": "7c3be2ad76ef4e90a603e4df2eeea8fd"
      }
     },
     "metadata": {},
     "output_type": "display_data"
    },
    {
     "data": {
      "text/plain": "Batch:   0%|          | 0/95 [00:00<?, ?it/s]",
      "application/vnd.jupyter.widget-view+json": {
       "version_major": 2,
       "version_minor": 0,
       "model_id": "d34c5b9aa36c42ac9a792f702e2febe8"
      }
     },
     "metadata": {},
     "output_type": "display_data"
    },
    {
     "data": {
      "text/plain": "Batch:   0%|          | 0/95 [00:00<?, ?it/s]",
      "application/vnd.jupyter.widget-view+json": {
       "version_major": 2,
       "version_minor": 0,
       "model_id": "23c400b6285e49b490dfb7268721f522"
      }
     },
     "metadata": {},
     "output_type": "display_data"
    },
    {
     "data": {
      "text/plain": "Batch:   0%|          | 0/95 [00:00<?, ?it/s]",
      "application/vnd.jupyter.widget-view+json": {
       "version_major": 2,
       "version_minor": 0,
       "model_id": "3a23760686d9447680ebed313c00c9e1"
      }
     },
     "metadata": {},
     "output_type": "display_data"
    },
    {
     "data": {
      "text/plain": "Batch:   0%|          | 0/95 [00:00<?, ?it/s]",
      "application/vnd.jupyter.widget-view+json": {
       "version_major": 2,
       "version_minor": 0,
       "model_id": "500414e31d864ee8ab106b39177552c5"
      }
     },
     "metadata": {},
     "output_type": "display_data"
    },
    {
     "data": {
      "text/plain": "Batch:   0%|          | 0/95 [00:00<?, ?it/s]",
      "application/vnd.jupyter.widget-view+json": {
       "version_major": 2,
       "version_minor": 0,
       "model_id": "be7bdb4ce4274a25a4105c466545a657"
      }
     },
     "metadata": {},
     "output_type": "display_data"
    },
    {
     "data": {
      "text/plain": "Batch:   0%|          | 0/95 [00:00<?, ?it/s]",
      "application/vnd.jupyter.widget-view+json": {
       "version_major": 2,
       "version_minor": 0,
       "model_id": "74f374ffa6de48a996f3e3d0e9ded062"
      }
     },
     "metadata": {},
     "output_type": "display_data"
    },
    {
     "data": {
      "text/plain": "Batch:   0%|          | 0/95 [00:00<?, ?it/s]",
      "application/vnd.jupyter.widget-view+json": {
       "version_major": 2,
       "version_minor": 0,
       "model_id": "0c8644aa2ac148f381bd5f4a2e66572b"
      }
     },
     "metadata": {},
     "output_type": "display_data"
    },
    {
     "data": {
      "text/plain": "Batch:   0%|          | 0/95 [00:00<?, ?it/s]",
      "application/vnd.jupyter.widget-view+json": {
       "version_major": 2,
       "version_minor": 0,
       "model_id": "3dd8d79313764f7aa2bc116ded2a8cdf"
      }
     },
     "metadata": {},
     "output_type": "display_data"
    },
    {
     "data": {
      "text/plain": "Batch:   0%|          | 0/95 [00:00<?, ?it/s]",
      "application/vnd.jupyter.widget-view+json": {
       "version_major": 2,
       "version_minor": 0,
       "model_id": "24e9b33c38d24d3fb37cae4e195b0c54"
      }
     },
     "metadata": {},
     "output_type": "display_data"
    },
    {
     "data": {
      "text/plain": "Batch:   0%|          | 0/95 [00:00<?, ?it/s]",
      "application/vnd.jupyter.widget-view+json": {
       "version_major": 2,
       "version_minor": 0,
       "model_id": "5c939175792d4ab299fdc7ae8af47a96"
      }
     },
     "metadata": {},
     "output_type": "display_data"
    },
    {
     "data": {
      "text/plain": "Batch:   0%|          | 0/95 [00:00<?, ?it/s]",
      "application/vnd.jupyter.widget-view+json": {
       "version_major": 2,
       "version_minor": 0,
       "model_id": "9a5a03ac324147ad887354820ab66365"
      }
     },
     "metadata": {},
     "output_type": "display_data"
    },
    {
     "data": {
      "text/plain": "Batch:   0%|          | 0/95 [00:00<?, ?it/s]",
      "application/vnd.jupyter.widget-view+json": {
       "version_major": 2,
       "version_minor": 0,
       "model_id": "7fb08e45f5b14212aa435e6f26c41929"
      }
     },
     "metadata": {},
     "output_type": "display_data"
    },
    {
     "data": {
      "text/plain": "Batch:   0%|          | 0/95 [00:00<?, ?it/s]",
      "application/vnd.jupyter.widget-view+json": {
       "version_major": 2,
       "version_minor": 0,
       "model_id": "3f67acf1dac549309a04bf12a611d290"
      }
     },
     "metadata": {},
     "output_type": "display_data"
    },
    {
     "data": {
      "text/plain": "Batch:   0%|          | 0/95 [00:00<?, ?it/s]",
      "application/vnd.jupyter.widget-view+json": {
       "version_major": 2,
       "version_minor": 0,
       "model_id": "ff82d106bb9f456eb0f55e77198cb143"
      }
     },
     "metadata": {},
     "output_type": "display_data"
    },
    {
     "data": {
      "text/plain": "Batch:   0%|          | 0/95 [00:00<?, ?it/s]",
      "application/vnd.jupyter.widget-view+json": {
       "version_major": 2,
       "version_minor": 0,
       "model_id": "0df5b47646734eb38eb1d08a32f36edd"
      }
     },
     "metadata": {},
     "output_type": "display_data"
    },
    {
     "data": {
      "text/plain": "Batch:   0%|          | 0/95 [00:00<?, ?it/s]",
      "application/vnd.jupyter.widget-view+json": {
       "version_major": 2,
       "version_minor": 0,
       "model_id": "2367a8e2cb034d2f95e74bf4a1ac5efd"
      }
     },
     "metadata": {},
     "output_type": "display_data"
    },
    {
     "data": {
      "text/plain": "Batch:   0%|          | 0/95 [00:00<?, ?it/s]",
      "application/vnd.jupyter.widget-view+json": {
       "version_major": 2,
       "version_minor": 0,
       "model_id": "16c56359ba2a4f1cb4cfd11b1a2bed2a"
      }
     },
     "metadata": {},
     "output_type": "display_data"
    },
    {
     "data": {
      "text/plain": "Batch:   0%|          | 0/95 [00:00<?, ?it/s]",
      "application/vnd.jupyter.widget-view+json": {
       "version_major": 2,
       "version_minor": 0,
       "model_id": "bae1da1f207e4f6c8fdb7e7516690166"
      }
     },
     "metadata": {},
     "output_type": "display_data"
    },
    {
     "data": {
      "text/plain": "Batch:   0%|          | 0/95 [00:00<?, ?it/s]",
      "application/vnd.jupyter.widget-view+json": {
       "version_major": 2,
       "version_minor": 0,
       "model_id": "0ea60baa73b34a95878d26d266656742"
      }
     },
     "metadata": {},
     "output_type": "display_data"
    },
    {
     "data": {
      "text/plain": "Batch:   0%|          | 0/95 [00:00<?, ?it/s]",
      "application/vnd.jupyter.widget-view+json": {
       "version_major": 2,
       "version_minor": 0,
       "model_id": "730c094b066f4491a42694a4ba385aab"
      }
     },
     "metadata": {},
     "output_type": "display_data"
    },
    {
     "data": {
      "text/plain": "Batch:   0%|          | 0/95 [00:00<?, ?it/s]",
      "application/vnd.jupyter.widget-view+json": {
       "version_major": 2,
       "version_minor": 0,
       "model_id": "8a9ee7e65daa4b7c9d62f3ee29d99e2a"
      }
     },
     "metadata": {},
     "output_type": "display_data"
    },
    {
     "data": {
      "text/plain": "Batch:   0%|          | 0/95 [00:00<?, ?it/s]",
      "application/vnd.jupyter.widget-view+json": {
       "version_major": 2,
       "version_minor": 0,
       "model_id": "817b357a0e174990a8baa54b4c831a25"
      }
     },
     "metadata": {},
     "output_type": "display_data"
    },
    {
     "data": {
      "text/plain": "Batch:   0%|          | 0/95 [00:00<?, ?it/s]",
      "application/vnd.jupyter.widget-view+json": {
       "version_major": 2,
       "version_minor": 0,
       "model_id": "234e44ee337c4b4cb740ca37b00f8e64"
      }
     },
     "metadata": {},
     "output_type": "display_data"
    },
    {
     "data": {
      "text/plain": "Batch:   0%|          | 0/95 [00:00<?, ?it/s]",
      "application/vnd.jupyter.widget-view+json": {
       "version_major": 2,
       "version_minor": 0,
       "model_id": "ea7222c532784e7caa03603f76cfa844"
      }
     },
     "metadata": {},
     "output_type": "display_data"
    },
    {
     "data": {
      "text/plain": "Batch:   0%|          | 0/95 [00:00<?, ?it/s]",
      "application/vnd.jupyter.widget-view+json": {
       "version_major": 2,
       "version_minor": 0,
       "model_id": "eb1cabc649a847c5b35a737f9808249d"
      }
     },
     "metadata": {},
     "output_type": "display_data"
    },
    {
     "data": {
      "text/plain": "Batch:   0%|          | 0/95 [00:00<?, ?it/s]",
      "application/vnd.jupyter.widget-view+json": {
       "version_major": 2,
       "version_minor": 0,
       "model_id": "368b76991ae54238a45e6336dbab0dd0"
      }
     },
     "metadata": {},
     "output_type": "display_data"
    },
    {
     "data": {
      "text/plain": "Batch:   0%|          | 0/95 [00:00<?, ?it/s]",
      "application/vnd.jupyter.widget-view+json": {
       "version_major": 2,
       "version_minor": 0,
       "model_id": "4e94b994c9a046f9ba640c8a1f5faa23"
      }
     },
     "metadata": {},
     "output_type": "display_data"
    },
    {
     "data": {
      "text/plain": "Batch:   0%|          | 0/95 [00:00<?, ?it/s]",
      "application/vnd.jupyter.widget-view+json": {
       "version_major": 2,
       "version_minor": 0,
       "model_id": "e13b2f9efb7d44d4ab727af176236807"
      }
     },
     "metadata": {},
     "output_type": "display_data"
    },
    {
     "data": {
      "text/plain": "Batch:   0%|          | 0/95 [00:00<?, ?it/s]",
      "application/vnd.jupyter.widget-view+json": {
       "version_major": 2,
       "version_minor": 0,
       "model_id": "11a947454d50408f823d58ec5de2823b"
      }
     },
     "metadata": {},
     "output_type": "display_data"
    },
    {
     "data": {
      "text/plain": "Batch:   0%|          | 0/95 [00:00<?, ?it/s]",
      "application/vnd.jupyter.widget-view+json": {
       "version_major": 2,
       "version_minor": 0,
       "model_id": "421bcc4b8e0b458f8b8c7366dc3b847c"
      }
     },
     "metadata": {},
     "output_type": "display_data"
    },
    {
     "data": {
      "text/plain": "Batch:   0%|          | 0/95 [00:00<?, ?it/s]",
      "application/vnd.jupyter.widget-view+json": {
       "version_major": 2,
       "version_minor": 0,
       "model_id": "3d18a598095349b7a43a9051de8c1620"
      }
     },
     "metadata": {},
     "output_type": "display_data"
    },
    {
     "data": {
      "text/plain": "Batch:   0%|          | 0/95 [00:00<?, ?it/s]",
      "application/vnd.jupyter.widget-view+json": {
       "version_major": 2,
       "version_minor": 0,
       "model_id": "e267ca0d4ceb44e69906c95290dffe53"
      }
     },
     "metadata": {},
     "output_type": "display_data"
    },
    {
     "data": {
      "text/plain": "Batch:   0%|          | 0/95 [00:00<?, ?it/s]",
      "application/vnd.jupyter.widget-view+json": {
       "version_major": 2,
       "version_minor": 0,
       "model_id": "6afc8232a9494c66832b05fda068151f"
      }
     },
     "metadata": {},
     "output_type": "display_data"
    },
    {
     "data": {
      "text/plain": "Batch:   0%|          | 0/95 [00:00<?, ?it/s]",
      "application/vnd.jupyter.widget-view+json": {
       "version_major": 2,
       "version_minor": 0,
       "model_id": "bebde8d602d64ad0b31d9c6184158215"
      }
     },
     "metadata": {},
     "output_type": "display_data"
    },
    {
     "data": {
      "text/plain": "Batch:   0%|          | 0/95 [00:00<?, ?it/s]",
      "application/vnd.jupyter.widget-view+json": {
       "version_major": 2,
       "version_minor": 0,
       "model_id": "da3e1fe61e4a4029bb362ac19a227b94"
      }
     },
     "metadata": {},
     "output_type": "display_data"
    },
    {
     "data": {
      "text/plain": "Batch:   0%|          | 0/95 [00:00<?, ?it/s]",
      "application/vnd.jupyter.widget-view+json": {
       "version_major": 2,
       "version_minor": 0,
       "model_id": "2c8a76da89d3403a968667f133351ae4"
      }
     },
     "metadata": {},
     "output_type": "display_data"
    },
    {
     "data": {
      "text/plain": "Batch:   0%|          | 0/95 [00:00<?, ?it/s]",
      "application/vnd.jupyter.widget-view+json": {
       "version_major": 2,
       "version_minor": 0,
       "model_id": "76a68920b0034ccf82f1c903cfe557a0"
      }
     },
     "metadata": {},
     "output_type": "display_data"
    },
    {
     "data": {
      "text/plain": "Batch:   0%|          | 0/95 [00:00<?, ?it/s]",
      "application/vnd.jupyter.widget-view+json": {
       "version_major": 2,
       "version_minor": 0,
       "model_id": "dc47cf52cf864e2c96860015bedf1fd4"
      }
     },
     "metadata": {},
     "output_type": "display_data"
    },
    {
     "data": {
      "text/plain": "Batch:   0%|          | 0/95 [00:00<?, ?it/s]",
      "application/vnd.jupyter.widget-view+json": {
       "version_major": 2,
       "version_minor": 0,
       "model_id": "81422483e14c4164adb3bf32de7b1f66"
      }
     },
     "metadata": {},
     "output_type": "display_data"
    },
    {
     "data": {
      "text/plain": "Batch:   0%|          | 0/95 [00:00<?, ?it/s]",
      "application/vnd.jupyter.widget-view+json": {
       "version_major": 2,
       "version_minor": 0,
       "model_id": "548cba834b674d18be69612ad35d64e5"
      }
     },
     "metadata": {},
     "output_type": "display_data"
    },
    {
     "data": {
      "text/plain": "Batch:   0%|          | 0/95 [00:00<?, ?it/s]",
      "application/vnd.jupyter.widget-view+json": {
       "version_major": 2,
       "version_minor": 0,
       "model_id": "b0c8ad6cdfcf48c7bced7e2008a181ad"
      }
     },
     "metadata": {},
     "output_type": "display_data"
    },
    {
     "data": {
      "text/plain": "Batch:   0%|          | 0/95 [00:00<?, ?it/s]",
      "application/vnd.jupyter.widget-view+json": {
       "version_major": 2,
       "version_minor": 0,
       "model_id": "f1109434bd054e65a92171f29d58e2b7"
      }
     },
     "metadata": {},
     "output_type": "display_data"
    },
    {
     "data": {
      "text/plain": "Batch:   0%|          | 0/95 [00:00<?, ?it/s]",
      "application/vnd.jupyter.widget-view+json": {
       "version_major": 2,
       "version_minor": 0,
       "model_id": "53e381db8856458585a9fad339b69a87"
      }
     },
     "metadata": {},
     "output_type": "display_data"
    },
    {
     "data": {
      "text/plain": "Batch:   0%|          | 0/95 [00:00<?, ?it/s]",
      "application/vnd.jupyter.widget-view+json": {
       "version_major": 2,
       "version_minor": 0,
       "model_id": "51717ba93100471fb8a40bea50bd6dd9"
      }
     },
     "metadata": {},
     "output_type": "display_data"
    },
    {
     "data": {
      "text/plain": "Batch:   0%|          | 0/95 [00:00<?, ?it/s]",
      "application/vnd.jupyter.widget-view+json": {
       "version_major": 2,
       "version_minor": 0,
       "model_id": "af27a82b507e4990bc29b27728c90819"
      }
     },
     "metadata": {},
     "output_type": "display_data"
    },
    {
     "data": {
      "text/plain": "Batch:   0%|          | 0/95 [00:00<?, ?it/s]",
      "application/vnd.jupyter.widget-view+json": {
       "version_major": 2,
       "version_minor": 0,
       "model_id": "7d3cd2420570400ba59530e521a07a92"
      }
     },
     "metadata": {},
     "output_type": "display_data"
    },
    {
     "data": {
      "text/plain": "Batch:   0%|          | 0/95 [00:00<?, ?it/s]",
      "application/vnd.jupyter.widget-view+json": {
       "version_major": 2,
       "version_minor": 0,
       "model_id": "6923428f5b2246a2a176c88175875322"
      }
     },
     "metadata": {},
     "output_type": "display_data"
    },
    {
     "data": {
      "text/plain": "Batch:   0%|          | 0/95 [00:00<?, ?it/s]",
      "application/vnd.jupyter.widget-view+json": {
       "version_major": 2,
       "version_minor": 0,
       "model_id": "9bc7f21bf958415a96da6885d2faecd2"
      }
     },
     "metadata": {},
     "output_type": "display_data"
    },
    {
     "data": {
      "text/plain": "Batch:   0%|          | 0/95 [00:00<?, ?it/s]",
      "application/vnd.jupyter.widget-view+json": {
       "version_major": 2,
       "version_minor": 0,
       "model_id": "51d06c16c29c4cb78d31e1c23704521b"
      }
     },
     "metadata": {},
     "output_type": "display_data"
    },
    {
     "data": {
      "text/plain": "Batch:   0%|          | 0/95 [00:00<?, ?it/s]",
      "application/vnd.jupyter.widget-view+json": {
       "version_major": 2,
       "version_minor": 0,
       "model_id": "20ffaa68f61a40eebe252e0b59b92725"
      }
     },
     "metadata": {},
     "output_type": "display_data"
    },
    {
     "data": {
      "text/plain": "Batch:   0%|          | 0/95 [00:00<?, ?it/s]",
      "application/vnd.jupyter.widget-view+json": {
       "version_major": 2,
       "version_minor": 0,
       "model_id": "dc37067fa19d4846a782d979aa4ed2ed"
      }
     },
     "metadata": {},
     "output_type": "display_data"
    },
    {
     "data": {
      "text/plain": "Batch:   0%|          | 0/95 [00:00<?, ?it/s]",
      "application/vnd.jupyter.widget-view+json": {
       "version_major": 2,
       "version_minor": 0,
       "model_id": "44937f8766e040dd8b3269cfaa46acbf"
      }
     },
     "metadata": {},
     "output_type": "display_data"
    },
    {
     "data": {
      "text/plain": "Batch:   0%|          | 0/95 [00:00<?, ?it/s]",
      "application/vnd.jupyter.widget-view+json": {
       "version_major": 2,
       "version_minor": 0,
       "model_id": "c2c5cbfd6cac4f138c526b811cde3093"
      }
     },
     "metadata": {},
     "output_type": "display_data"
    },
    {
     "data": {
      "text/plain": "Batch:   0%|          | 0/95 [00:00<?, ?it/s]",
      "application/vnd.jupyter.widget-view+json": {
       "version_major": 2,
       "version_minor": 0,
       "model_id": "f9fecb371d394e7985b851034445a263"
      }
     },
     "metadata": {},
     "output_type": "display_data"
    },
    {
     "data": {
      "text/plain": "Batch:   0%|          | 0/95 [00:00<?, ?it/s]",
      "application/vnd.jupyter.widget-view+json": {
       "version_major": 2,
       "version_minor": 0,
       "model_id": "e129a5cd79ba4f7db53a79120c2e661b"
      }
     },
     "metadata": {},
     "output_type": "display_data"
    },
    {
     "data": {
      "text/plain": "Batch:   0%|          | 0/95 [00:00<?, ?it/s]",
      "application/vnd.jupyter.widget-view+json": {
       "version_major": 2,
       "version_minor": 0,
       "model_id": "056ebfe1fce64c45976303fd6545ec21"
      }
     },
     "metadata": {},
     "output_type": "display_data"
    },
    {
     "data": {
      "text/plain": "Batch:   0%|          | 0/95 [00:00<?, ?it/s]",
      "application/vnd.jupyter.widget-view+json": {
       "version_major": 2,
       "version_minor": 0,
       "model_id": "2998c9611a7c44aba08315f78685fb23"
      }
     },
     "metadata": {},
     "output_type": "display_data"
    },
    {
     "data": {
      "text/plain": "Batch:   0%|          | 0/95 [00:00<?, ?it/s]",
      "application/vnd.jupyter.widget-view+json": {
       "version_major": 2,
       "version_minor": 0,
       "model_id": "b6e8619c267840978620f06fa5eb8cb9"
      }
     },
     "metadata": {},
     "output_type": "display_data"
    },
    {
     "data": {
      "text/plain": "Batch:   0%|          | 0/95 [00:00<?, ?it/s]",
      "application/vnd.jupyter.widget-view+json": {
       "version_major": 2,
       "version_minor": 0,
       "model_id": "9a051c20a831463ab2c5e501e6e85f34"
      }
     },
     "metadata": {},
     "output_type": "display_data"
    },
    {
     "data": {
      "text/plain": "Batch:   0%|          | 0/95 [00:00<?, ?it/s]",
      "application/vnd.jupyter.widget-view+json": {
       "version_major": 2,
       "version_minor": 0,
       "model_id": "d197090383ce4ce28325487cd3619a03"
      }
     },
     "metadata": {},
     "output_type": "display_data"
    },
    {
     "data": {
      "text/plain": "Batch:   0%|          | 0/95 [00:00<?, ?it/s]",
      "application/vnd.jupyter.widget-view+json": {
       "version_major": 2,
       "version_minor": 0,
       "model_id": "fd8f89515dd843a280f5b0db45759e7f"
      }
     },
     "metadata": {},
     "output_type": "display_data"
    },
    {
     "data": {
      "text/plain": "Batch:   0%|          | 0/95 [00:00<?, ?it/s]",
      "application/vnd.jupyter.widget-view+json": {
       "version_major": 2,
       "version_minor": 0,
       "model_id": "0bd60d96b7194c04a388b5b47c1d672a"
      }
     },
     "metadata": {},
     "output_type": "display_data"
    },
    {
     "data": {
      "text/plain": "Batch:   0%|          | 0/95 [00:00<?, ?it/s]",
      "application/vnd.jupyter.widget-view+json": {
       "version_major": 2,
       "version_minor": 0,
       "model_id": "0cfe3761545b443f9dc5d538381c184b"
      }
     },
     "metadata": {},
     "output_type": "display_data"
    },
    {
     "data": {
      "text/plain": "Batch:   0%|          | 0/95 [00:00<?, ?it/s]",
      "application/vnd.jupyter.widget-view+json": {
       "version_major": 2,
       "version_minor": 0,
       "model_id": "f45c239fac254ad1b1e29eb9defdf03b"
      }
     },
     "metadata": {},
     "output_type": "display_data"
    },
    {
     "data": {
      "text/plain": "Batch:   0%|          | 0/95 [00:00<?, ?it/s]",
      "application/vnd.jupyter.widget-view+json": {
       "version_major": 2,
       "version_minor": 0,
       "model_id": "5a9a39088c614afa92f3c43dddd89580"
      }
     },
     "metadata": {},
     "output_type": "display_data"
    },
    {
     "data": {
      "text/plain": "Batch:   0%|          | 0/95 [00:00<?, ?it/s]",
      "application/vnd.jupyter.widget-view+json": {
       "version_major": 2,
       "version_minor": 0,
       "model_id": "cdde2ddb1e624bffb82a8c5cadd04fd1"
      }
     },
     "metadata": {},
     "output_type": "display_data"
    },
    {
     "data": {
      "text/plain": "Batch:   0%|          | 0/95 [00:00<?, ?it/s]",
      "application/vnd.jupyter.widget-view+json": {
       "version_major": 2,
       "version_minor": 0,
       "model_id": "7c65ee8c984645f08e6f4db899b16ee8"
      }
     },
     "metadata": {},
     "output_type": "display_data"
    },
    {
     "data": {
      "text/plain": "Batch:   0%|          | 0/95 [00:00<?, ?it/s]",
      "application/vnd.jupyter.widget-view+json": {
       "version_major": 2,
       "version_minor": 0,
       "model_id": "ac8ff0f26bd7486b89ceac1ea7c58f9f"
      }
     },
     "metadata": {},
     "output_type": "display_data"
    },
    {
     "data": {
      "text/plain": "Batch:   0%|          | 0/95 [00:00<?, ?it/s]",
      "application/vnd.jupyter.widget-view+json": {
       "version_major": 2,
       "version_minor": 0,
       "model_id": "5f234de818554abab75f1505160e4a40"
      }
     },
     "metadata": {},
     "output_type": "display_data"
    },
    {
     "data": {
      "text/plain": "Batch:   0%|          | 0/95 [00:00<?, ?it/s]",
      "application/vnd.jupyter.widget-view+json": {
       "version_major": 2,
       "version_minor": 0,
       "model_id": "936acd3fedf142e9b4d312b3bfd5cdb2"
      }
     },
     "metadata": {},
     "output_type": "display_data"
    },
    {
     "data": {
      "text/plain": "Batch:   0%|          | 0/95 [00:00<?, ?it/s]",
      "application/vnd.jupyter.widget-view+json": {
       "version_major": 2,
       "version_minor": 0,
       "model_id": "c14bdaa54d414e74b5e251cd8cea0332"
      }
     },
     "metadata": {},
     "output_type": "display_data"
    },
    {
     "data": {
      "text/plain": "Batch:   0%|          | 0/95 [00:00<?, ?it/s]",
      "application/vnd.jupyter.widget-view+json": {
       "version_major": 2,
       "version_minor": 0,
       "model_id": "d5779121436844fdb043595ad81dbc43"
      }
     },
     "metadata": {},
     "output_type": "display_data"
    },
    {
     "data": {
      "text/plain": "Batch:   0%|          | 0/95 [00:00<?, ?it/s]",
      "application/vnd.jupyter.widget-view+json": {
       "version_major": 2,
       "version_minor": 0,
       "model_id": "e109bbd9110f4e79b1f69b8f9ef6551e"
      }
     },
     "metadata": {},
     "output_type": "display_data"
    },
    {
     "data": {
      "text/plain": "Batch:   0%|          | 0/95 [00:00<?, ?it/s]",
      "application/vnd.jupyter.widget-view+json": {
       "version_major": 2,
       "version_minor": 0,
       "model_id": "5ff852da4a26442398e60027df63edd2"
      }
     },
     "metadata": {},
     "output_type": "display_data"
    },
    {
     "data": {
      "text/plain": "Batch:   0%|          | 0/95 [00:00<?, ?it/s]",
      "application/vnd.jupyter.widget-view+json": {
       "version_major": 2,
       "version_minor": 0,
       "model_id": "8116644a4c014696b6f03a90ffb0c38d"
      }
     },
     "metadata": {},
     "output_type": "display_data"
    },
    {
     "data": {
      "text/plain": "Batch:   0%|          | 0/95 [00:00<?, ?it/s]",
      "application/vnd.jupyter.widget-view+json": {
       "version_major": 2,
       "version_minor": 0,
       "model_id": "4a370873fb6e461cb7cf0ed66d975814"
      }
     },
     "metadata": {},
     "output_type": "display_data"
    },
    {
     "data": {
      "text/plain": "Batch:   0%|          | 0/95 [00:00<?, ?it/s]",
      "application/vnd.jupyter.widget-view+json": {
       "version_major": 2,
       "version_minor": 0,
       "model_id": "d29b4a0df4b847a9b37d4693416e63ce"
      }
     },
     "metadata": {},
     "output_type": "display_data"
    },
    {
     "data": {
      "text/plain": "Batch:   0%|          | 0/95 [00:00<?, ?it/s]",
      "application/vnd.jupyter.widget-view+json": {
       "version_major": 2,
       "version_minor": 0,
       "model_id": "42b17de380ba4cd6aa431d75c23c2218"
      }
     },
     "metadata": {},
     "output_type": "display_data"
    },
    {
     "data": {
      "text/plain": "Batch:   0%|          | 0/95 [00:00<?, ?it/s]",
      "application/vnd.jupyter.widget-view+json": {
       "version_major": 2,
       "version_minor": 0,
       "model_id": "02becc4c715a4d98acb1731748d3cd49"
      }
     },
     "metadata": {},
     "output_type": "display_data"
    },
    {
     "data": {
      "text/plain": "Batch:   0%|          | 0/95 [00:00<?, ?it/s]",
      "application/vnd.jupyter.widget-view+json": {
       "version_major": 2,
       "version_minor": 0,
       "model_id": "ff4fa6f4916c487880d63c1cc2844a54"
      }
     },
     "metadata": {},
     "output_type": "display_data"
    },
    {
     "data": {
      "text/plain": "Batch:   0%|          | 0/95 [00:00<?, ?it/s]",
      "application/vnd.jupyter.widget-view+json": {
       "version_major": 2,
       "version_minor": 0,
       "model_id": "3a0d043239674bc7b8784c08f11d2647"
      }
     },
     "metadata": {},
     "output_type": "display_data"
    },
    {
     "data": {
      "text/plain": "Batch:   0%|          | 0/95 [00:00<?, ?it/s]",
      "application/vnd.jupyter.widget-view+json": {
       "version_major": 2,
       "version_minor": 0,
       "model_id": "98f717376f2d479480096c2d3aac7a4f"
      }
     },
     "metadata": {},
     "output_type": "display_data"
    },
    {
     "data": {
      "text/plain": "Batch:   0%|          | 0/95 [00:00<?, ?it/s]",
      "application/vnd.jupyter.widget-view+json": {
       "version_major": 2,
       "version_minor": 0,
       "model_id": "77fdd45116e244fc81e6c770d1e406f5"
      }
     },
     "metadata": {},
     "output_type": "display_data"
    },
    {
     "data": {
      "text/plain": "Batch:   0%|          | 0/95 [00:00<?, ?it/s]",
      "application/vnd.jupyter.widget-view+json": {
       "version_major": 2,
       "version_minor": 0,
       "model_id": "ac80306dee744d0180583ae315847060"
      }
     },
     "metadata": {},
     "output_type": "display_data"
    },
    {
     "data": {
      "text/plain": "Batch:   0%|          | 0/95 [00:00<?, ?it/s]",
      "application/vnd.jupyter.widget-view+json": {
       "version_major": 2,
       "version_minor": 0,
       "model_id": "a05dfdc5fe744a13b641cf21c9a4b23f"
      }
     },
     "metadata": {},
     "output_type": "display_data"
    },
    {
     "data": {
      "text/plain": "Batch:   0%|          | 0/95 [00:00<?, ?it/s]",
      "application/vnd.jupyter.widget-view+json": {
       "version_major": 2,
       "version_minor": 0,
       "model_id": "d64df0767c4f449096efacaa11cf4863"
      }
     },
     "metadata": {},
     "output_type": "display_data"
    },
    {
     "data": {
      "text/plain": "Batch:   0%|          | 0/95 [00:00<?, ?it/s]",
      "application/vnd.jupyter.widget-view+json": {
       "version_major": 2,
       "version_minor": 0,
       "model_id": "08f48fd4fc4b48ac9d5db1302e4237ef"
      }
     },
     "metadata": {},
     "output_type": "display_data"
    },
    {
     "data": {
      "text/plain": "Batch:   0%|          | 0/95 [00:00<?, ?it/s]",
      "application/vnd.jupyter.widget-view+json": {
       "version_major": 2,
       "version_minor": 0,
       "model_id": "986fa7630656463fb1c15a5f8e201968"
      }
     },
     "metadata": {},
     "output_type": "display_data"
    },
    {
     "data": {
      "text/plain": "Batch:   0%|          | 0/95 [00:00<?, ?it/s]",
      "application/vnd.jupyter.widget-view+json": {
       "version_major": 2,
       "version_minor": 0,
       "model_id": "9d70179b437040ef8e4f784a16e5118c"
      }
     },
     "metadata": {},
     "output_type": "display_data"
    },
    {
     "data": {
      "text/plain": "Batch:   0%|          | 0/95 [00:00<?, ?it/s]",
      "application/vnd.jupyter.widget-view+json": {
       "version_major": 2,
       "version_minor": 0,
       "model_id": "f267af9c05c64977b827306a53ba94c2"
      }
     },
     "metadata": {},
     "output_type": "display_data"
    },
    {
     "data": {
      "text/plain": "Batch:   0%|          | 0/95 [00:00<?, ?it/s]",
      "application/vnd.jupyter.widget-view+json": {
       "version_major": 2,
       "version_minor": 0,
       "model_id": "7d5548312e544e9cac18fcfa8e137e1a"
      }
     },
     "metadata": {},
     "output_type": "display_data"
    },
    {
     "data": {
      "text/plain": "Batch:   0%|          | 0/95 [00:00<?, ?it/s]",
      "application/vnd.jupyter.widget-view+json": {
       "version_major": 2,
       "version_minor": 0,
       "model_id": "023945fcfe304e72a30660461cec5231"
      }
     },
     "metadata": {},
     "output_type": "display_data"
    },
    {
     "data": {
      "text/plain": "Batch:   0%|          | 0/95 [00:00<?, ?it/s]",
      "application/vnd.jupyter.widget-view+json": {
       "version_major": 2,
       "version_minor": 0,
       "model_id": "047185ab7ee9402880a47d86d5964d61"
      }
     },
     "metadata": {},
     "output_type": "display_data"
    },
    {
     "data": {
      "text/plain": "Batch:   0%|          | 0/95 [00:00<?, ?it/s]",
      "application/vnd.jupyter.widget-view+json": {
       "version_major": 2,
       "version_minor": 0,
       "model_id": "c5c30ea8f8064c47bed6c6b26113e3bc"
      }
     },
     "metadata": {},
     "output_type": "display_data"
    }
   ],
   "source": [
    "num_epochs = 100\n",
    "ema = EMAModel(\n",
    "    parameters=noise_pred_net.parameters(),\n",
    "    power=0.75\n",
    ")\n",
    "optimizer = torch.optim.AdamW(\n",
    "    params=noise_pred_net.parameters(),\n",
    "    lr=1e-4,\n",
    "    weight_decay=1e-6\n",
    ")\n",
    "\n",
    "lr_scheduler = get_scheduler(\n",
    "    name='cosine',\n",
    "    optimizer=optimizer,\n",
    "    num_warmup_steps=500,\n",
    "    num_training_steps=len(dataloader) * num_epochs\n",
    ")\n",
    "\n",
    "with tqdm(range(num_epochs), desc='Epoch') as tglobal:\n",
    "    # epoch loop\n",
    "    for epoch_idx in tglobal:\n",
    "        epoch_loss = list()\n",
    "        # batch loop\n",
    "        with tqdm(dataloader, desc='Batch', leave=False) as tepoch:\n",
    "            for nbatch in tepoch:\n",
    "                # data normalized in dataset\n",
    "                # device transfer\n",
    "                nobs = nbatch['obs'].to(device)\n",
    "                naction = nbatch['action'].to(device)\n",
    "                B = nobs.shape[0]\n",
    "\n",
    "                # observation as FiLM conditioning\n",
    "                # (B, obs_horizon, obs_dim)\n",
    "                obs_cond = nobs[:,:obs_horizon,:]\n",
    "                # (B, obs_horizon * obs_dim)\n",
    "                obs_cond = obs_cond.flatten(start_dim=1)\n",
    "\n",
    "                # sample noise to add to actions\n",
    "                noise = torch.randn(naction.shape, device=device)\n",
    "\n",
    "                # sample a diffusion iteration for each data point\n",
    "                timesteps = torch.randint(\n",
    "                    0, noise_sceduler.config.num_train_timesteps,\n",
    "                    (B,), device=device\n",
    "                ).long()\n",
    "\n",
    "                # add noise to the clean images according to the noise magnitude at each diffusion iteration\n",
    "                # (this is the forward diffusion process)\n",
    "                noisy_actions = noise_sceduler.add_noise(\n",
    "                    naction, noise, timesteps)\n",
    "\n",
    "                # predict the noise residual\n",
    "                noise_pred = noise_pred_net(\n",
    "                    noisy_actions, timesteps, global_cond=obs_cond)\n",
    "\n",
    "                # L2 loss\n",
    "                loss = nn.functional.mse_loss(noise_pred, noise)\n",
    "\n",
    "                # optimize\n",
    "                loss.backward()\n",
    "                optimizer.step()\n",
    "                optimizer.zero_grad()\n",
    "                # step lr scheduler every batch\n",
    "                # this is different from standard pytorch behavior\n",
    "                lr_scheduler.step()\n",
    "\n",
    "                # update Exponential Moving Average of the model weights\n",
    "                ema.step(noise_pred_net.parameters())\n",
    "\n",
    "                # logging\n",
    "                loss_cpu = loss.item()\n",
    "                epoch_loss.append(loss_cpu)\n",
    "                tepoch.set_postfix(loss=loss_cpu)\n",
    "        tglobal.set_postfix(loss=np.mean(epoch_loss))\n",
    "\n",
    "# Weights of the EMA model\n",
    "# is used for inference\n",
    "ema_noise_pred_net = noise_pred_net\n",
    "ema.copy_to(ema_noise_pred_net.parameters())\n",
    "            "
   ],
   "metadata": {
    "collapsed": false,
    "ExecuteTime": {
     "end_time": "2024-03-18T01:56:58.672918Z",
     "start_time": "2024-03-18T01:39:24.361338Z"
    }
   },
   "id": "edf4b3fc60e36ae4",
   "execution_count": 8
  },
  {
   "cell_type": "code",
   "outputs": [
    {
     "name": "stdout",
     "output_type": "stream",
     "text": [
      "Skipped pretrained weight loading.\n"
     ]
    }
   ],
   "source": [
    "#@markdown ### **Loading Pretrained Checkpoint**\n",
    "#@markdown Set `load_pretrained = True` to load pretrained weights.\n",
    "\n",
    "load_pretrained = False\n",
    "if load_pretrained:\n",
    "  ckpt_path = \"pusht_state_100ep.ckpt\"\n",
    "  if not os.path.isfile(ckpt_path):\n",
    "      id = \"1mHDr_DEZSdiGo9yecL50BBQYzR8Fjhl_&confirm=t\"\n",
    "      gdown.download(id=id, output=ckpt_path, quiet=False)\n",
    "\n",
    "  state_dict = torch.load(ckpt_path, map_location='cuda')\n",
    "  ema_noise_pred_net = noise_pred_net\n",
    "  ema_noise_pred_net.load_state_dict(state_dict)\n",
    "  print('Pretrained weights loaded.')\n",
    "else:\n",
    "  print(\"Skipped pretrained weight loading.\")"
   ],
   "metadata": {
    "collapsed": false,
    "ExecuteTime": {
     "end_time": "2024-03-18T02:05:58.502177Z",
     "start_time": "2024-03-18T02:05:58.499135Z"
    }
   },
   "id": "c39408d2a02b5c8",
   "execution_count": 9
  },
  {
   "cell_type": "code",
   "outputs": [
    {
     "data": {
      "text/plain": "Eval PushTStateEnv:   0%|          | 0/200 [00:00<?, ?it/s]",
      "application/vnd.jupyter.widget-view+json": {
       "version_major": 2,
       "version_minor": 0,
       "model_id": "40fdc4b1c2da44288197f9db0483fd7f"
      }
     },
     "metadata": {},
     "output_type": "display_data"
    },
    {
     "name": "stdout",
     "output_type": "stream",
     "text": [
      "Inference Time: 0.5500671863555908\n",
      "Inference Time: 0.6058378219604492\n",
      "Inference Time: 0.5096819400787354\n",
      "Inference Time: 0.5008115768432617\n",
      "Inference Time: 0.5058064460754395\n",
      "Inference Time: 0.5037620067596436\n",
      "Inference Time: 0.5037190914154053\n",
      "Inference Time: 0.5038249492645264\n",
      "Inference Time: 0.500647783279419\n",
      "Inference Time: 0.5007035732269287\n",
      "Inference Time: 0.5019881725311279\n",
      "Inference Time: 0.5017483234405518\n",
      "Inference Time: 0.5003139972686768\n",
      "Inference Time: 0.5027315616607666\n",
      "Inference Time: 0.5038604736328125\n",
      "Inference Time: 0.5067670345306396\n",
      "Inference Time: 0.5017151832580566\n",
      "Inference Time: 0.4998438358306885\n",
      "Inference Time: 0.5027518272399902\n",
      "Score:  1.0\n"
     ]
    },
    {
     "data": {
      "text/plain": "<IPython.core.display.Video object>",
      "text/html": "<video controls  width=\"256\"  height=\"256\">\n <source src=\"data:video/mp4;base64,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\" type=\"video/mp4\">\n Your browser does not support the video tag.\n </video>"
     },
     "execution_count": 16,
     "metadata": {},
     "output_type": "execute_result"
    }
   ],
   "source": [
    "#@markdown ### **Inference**\n",
    "import time\n",
    "\n",
    "# limit enviornment interaction to 200 steps before termination\n",
    "max_steps = 200\n",
    "env = PushTEnv()\n",
    "# use a seed >200 to avoid initial states seen in the training dataset\n",
    "env.seed(100000)\n",
    "\n",
    "# get first observation\n",
    "obs, info = env.reset()\n",
    "\n",
    "# keep a queue of last 2 steps of observations\n",
    "obs_deque = collections.deque(\n",
    "    [obs] * obs_horizon, maxlen=obs_horizon)\n",
    "# save visualization and rewards\n",
    "imgs = [env.render(mode='rgb_array')]\n",
    "rewards = list()\n",
    "done = False\n",
    "step_idx = 0\n",
    "\n",
    "with tqdm(total=max_steps, desc=\"Eval PushTStateEnv\") as pbar:\n",
    "    while not done:\n",
    "        B = 1\n",
    "        # stack the last obs_horizon (2) number of observations\n",
    "        obs_seq = np.stack(obs_deque)\n",
    "        # normalize observation\n",
    "        nobs = normalize_data(obs_seq, stats=stats['obs'])\n",
    "        # device transfer\n",
    "        nobs = torch.from_numpy(nobs).to(device, dtype=torch.float32)\n",
    "\n",
    "        # infer action\n",
    "        start_time = time.time()\n",
    "        with torch.no_grad():\n",
    "            # reshape observation to (B,obs_horizon*obs_dim)\n",
    "            obs_cond = nobs.unsqueeze(0).flatten(start_dim=1)\n",
    "\n",
    "            # initialize action from Guassian noise\n",
    "            noisy_action = torch.randn(\n",
    "                (B, pred_horizon, action_dim), device=device)\n",
    "            naction = noisy_action\n",
    "\n",
    "            # init scheduler\n",
    "            noise_sceduler.set_timesteps(num_diffusion_iters)\n",
    "\n",
    "            for k in noise_sceduler.timesteps:\n",
    "                # predict noise\n",
    "                noise_pred = ema_noise_pred_net(\n",
    "                    sample=naction,\n",
    "                    timestep=k,\n",
    "                    global_cond=obs_cond\n",
    "                )\n",
    "\n",
    "                # inverse diffusion step (remove noise)\n",
    "                naction = noise_sceduler.step(\n",
    "                    model_output=noise_pred,\n",
    "                    timestep=k,\n",
    "                    sample=naction\n",
    "                ).prev_sample\n",
    "        print(f\"Inference Time: {time.time() - start_time}\")\n",
    "\n",
    "        # unnormalize action\n",
    "        naction = naction.detach().to('cpu').numpy()\n",
    "        # (B, pred_horizon, action_dim)\n",
    "        naction = naction[0]\n",
    "        action_pred = unnormalize_data(naction, stats=stats['action'])\n",
    "\n",
    "        # only take action_horizon number of actions\n",
    "        start = obs_horizon - 1\n",
    "        end = start + action_horizon\n",
    "        action = action_pred[start:end,:]\n",
    "        # (action_horizon, action_dim)\n",
    "\n",
    "        # execute action_horizon number of steps\n",
    "        # without replanning\n",
    "        for i in range(len(action)):\n",
    "            # stepping env\n",
    "            obs, reward, done, _, info = env.step(action[i])\n",
    "            # save observations\n",
    "            obs_deque.append(obs)\n",
    "            # and reward/vis\n",
    "            rewards.append(reward)\n",
    "            imgs.append(env.render(mode='rgb_array'))\n",
    "\n",
    "            # update progress bar\n",
    "            step_idx += 1\n",
    "            pbar.update(1)\n",
    "            pbar.set_postfix(reward=reward)\n",
    "            if step_idx > max_steps:\n",
    "                done = True\n",
    "            if done:\n",
    "                break\n",
    "\n",
    "# print out the maximum target coverage\n",
    "print('Score: ', max(rewards))\n",
    "\n",
    "# visualize\n",
    "from IPython.display import Video\n",
    "vwrite('vis.mp4', imgs)\n",
    "Video('vis.mp4', embed=True, width=256, height=256)"
   ],
   "metadata": {
    "collapsed": false,
    "ExecuteTime": {
     "end_time": "2024-03-18T02:13:38.230261Z",
     "start_time": "2024-03-18T02:13:28.039177Z"
    }
   },
   "id": "326b5de1c48d4ba2",
   "execution_count": 16
  }
 ],
 "metadata": {
  "kernelspec": {
   "display_name": "Python 3",
   "language": "python",
   "name": "python3"
  },
  "language_info": {
   "codemirror_mode": {
    "name": "ipython",
    "version": 2
   },
   "file_extension": ".py",
   "mimetype": "text/x-python",
   "name": "python",
   "nbconvert_exporter": "python",
   "pygments_lexer": "ipython2",
   "version": "2.7.6"
  }
 },
 "nbformat": 4,
 "nbformat_minor": 5
}
